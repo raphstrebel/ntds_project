{
 "cells": [
  {
   "cell_type": "markdown",
   "metadata": {},
   "source": [
    "<a id=\"up\"></a>\n",
    "# Strategic Recipes\n",
    "\n",
    " - [Web Scrapping](#scrapping)\n",
    " - [Load Dataset](#load)\n",
    " - [Clean Dataset](#clean)\n",
    " - [Compare Recipes](#weighting)\n",
    " - [Build Graph](#graph)\n",
    " - [Exploration](#exploration)\n",
    " - [User Interface](#user)"
   ]
  },
  {
   "cell_type": "code",
   "execution_count": 1,
   "metadata": {},
   "outputs": [],
   "source": [
    "from pathlib import Path\n",
    "import shutil\n",
    "\n",
    "import pandas as pd\n",
    "import numpy as np\n",
    "import pickle\n",
    "\n",
    "from bs4 import BeautifulSoup\n",
    "import locale\n",
    "#from html.parser import HTMLParser\n",
    "# import website_func.py to use its functions\n",
    "from website_func import *\n",
    "from scrap import *\n",
    "import os #To read the file\n",
    "#reload every module each time\n",
    "%load_ext autoreload\n",
    "%autoreload 2"
   ]
  },
  {
   "cell_type": "markdown",
   "metadata": {},
   "source": [
    "<a id=\"scrapping\"></a>\n",
    "## Web Scrapping\n",
    "\n",
    "[Table of Contents](#up)"
   ]
  },
  {
   "cell_type": "markdown",
   "metadata": {},
   "source": [
    "# Some quick analysis of the data\n",
    "We received a data set of .html file containing the website content of recipes.\n",
    "We wanted to sort them by website, in order to, more easily, find a pattern among them. This will enable us to do the \"scraping\" of the pages. First we thought about moving the files in a folder corresponding to their website, but it would be a waste of time and a big computational effort. Thus, we came up with a (probably) faster solution : we could simply write the name of the file within its corresponding website folder. By inspecting the files, we saw that the first line was always containing a comment with the name of the file and the complete website. Using readlines and split, we could easily retrieve the name of the website.\n",
    "\n",
    "We launched this process, but an alarm appeared describing a Trojan virus in the file \"1c2cb6f0df04cf5a9d0baa116c6aa7bb.html\". \n",
    "We had then to quarantine or maybe remove the file, as we have quite enough data.\n",
    "By doing so, we remarked the file \"msg.log\" that could help us into fastering the processus as its content is formed of the name of the file together with its website."
   ]
  },
  {
   "cell_type": "code",
   "execution_count": 2,
   "metadata": {},
   "outputs": [
    {
     "name": "stdout",
     "output_type": "stream",
     "text": [
      "59b9d3c43ee8df52fcd04128475059f5.html\thttp://allrecipes.com/Recipe/bacon-and-potato-soup/detail.aspx\t2012-09-09 10:55:41 URL:http://allrecipes.com/Recipe/bacon-and-potato-soup/detail.aspx [225697/225697] -> \"59b9d3c43ee8df52fcd04128475059f5.tmp\" [1]\n",
      "--129b4dad66e6d0d59bbc6f3200f9e927.html\thttp://familyoven.com/recipes/search?terms=Dairy%20Free%20Alfredo%20Sauce\t2012-09-09 10:55:42 URL:http://familyoven.com/recipes/search?terms=Dairy%20Free%20Alfredo%20Sauce [77640] -> \"129b4dad66e6d0d59bbc6f3200f9e927.tmp\" [1]\n",
      "--bafcd30bc137238af0cd9954f7d0701e.html\thttp://www.yummly.com/recipes/chicken-brunswick-stew-lima-beans\tSyntax error in Set-Cookie: fbsr_54208124338=\"\"; Expires=Thu, 01-Jan-1970 00:00:10 GMT; Path=/, JSESSIONID=27D73083292D7FE540727DC4AD6C50D2; Path=/; HttpOnly, yv=\"lJSpLE5cHmHHgrNrJgtM/w==\"; Version=1; Max-Age=31536000; Expires=Mon, 09-Sep-2013 17:55:42 GMT; Path=/ at position 120.\n",
      "--2012-09-09 10:55:43 URL:http://www.yummly.com/recipes/chicken-brunswick-stew-lima-beans [286650] -> \"bafcd30bc137238af0cd9954f7d0701e.tmp\" [1]\n",
      "\n"
     ]
    }
   ],
   "source": [
    "with open(\"recipePages/msg.log\", 'r') as f:\n",
    "    first_lines = f.readlines()[45:49]\n",
    "    print(*first_lines, sep=\"--\")"
   ]
  },
  {
   "cell_type": "markdown",
   "metadata": {},
   "source": [
    "We observed that occasionally a line containing other info that are not necessary can appear (in the example above, this is the case in the last line). Those lines are ignored during the sorting process.\n",
    "Also we noticed there are no file extensions other than .html and .log (see below). Thus, we know exacty what the contents of the folder recipePages are."
   ]
  },
  {
   "cell_type": "code",
   "execution_count": 3,
   "metadata": {},
   "outputs": [
    {
     "name": "stdout",
     "output_type": "stream",
     "text": [
      "recipePages\\msg.log\n"
     ]
    }
   ],
   "source": [
    "# We can find in the folder that, excepted the html files, there is only the log\n",
    "# Get all filenames (i.e. path) that are in recipePages folder \n",
    "pathlist = Path(\"recipePages/\").glob('**/*')\n",
    "i = 0\n",
    "for path in pathlist:\n",
    "     # because path is object not string\n",
    "    path_in_str = str(path)\n",
    "    if not path_in_str.endswith(\".html\"):\n",
    "        print(path_in_str)"
   ]
  },
  {
   "cell_type": "markdown",
   "metadata": {},
   "source": [
    "##### Sorting part of the content of the folder \"recipePages\" :"
   ]
  },
  {
   "cell_type": "code",
   "execution_count": 4,
   "metadata": {},
   "outputs": [
    {
     "name": "stdout",
     "output_type": "stream",
     "text": [
      "Finished sorting the files\n"
     ]
    }
   ],
   "source": [
    "# If override True -> delete SortedFiles and re-execute the function (long)\n",
    "sort_website_from_log(override=False)"
   ]
  },
  {
   "cell_type": "markdown",
   "metadata": {},
   "source": [
    "After the sorting comes the scraping part. In order to have the maximum number of data and to save some time, we'll first scrap the websites containing the higher number of files."
   ]
  },
  {
   "cell_type": "code",
   "execution_count": 5,
   "metadata": {},
   "outputs": [],
   "source": [
    "website_count=pd.Series()\n",
    "\n",
    "for (root,dirs,files) in os.walk('SortedFiles', topdown=\"True\"):   \n",
    "        for website in dirs:\n",
    "            if website == \".ipynb_checkpoints\":\n",
    "                continue\n",
    "            filename = \"SortedFiles/\" + website +\"/filesName.txt\"\n",
    "            \n",
    "            f = open(filename, \"r\")\n",
    "            number_of_link = len(f.readlines())\n",
    "            line_to_add=pd.Series(number_of_link,index=[website])\n",
    "            website_count = website_count.append(line_to_add)"
   ]
  },
  {
   "cell_type": "code",
   "execution_count": 6,
   "metadata": {},
   "outputs": [
    {
     "name": "stdout",
     "output_type": "stream",
     "text": [
      "Number of website with more than 1000 files: 19\n",
      "Number of website with less than 1000 files: 85\n"
     ]
    }
   ],
   "source": [
    "#print(website_count)\n",
    "print(\"Number of website with more than 1000 files:\", len(website_count[website_count.values >1000]))\n",
    "print(\"Number of website with less than 1000 files:\", len(website_count[website_count.values <1000]))"
   ]
  },
  {
   "cell_type": "markdown",
   "metadata": {},
   "source": [
    "As we can observe, 19 websites have a really high number of files, higher than a thousand. The number of files contained in the 3 first website represents 53% of the total number of files.Those are the ones that we'll focus our attention on."
   ]
  },
  {
   "cell_type": "code",
   "execution_count": 7,
   "metadata": {},
   "outputs": [
    {
     "name": "stdout",
     "output_type": "stream",
     "text": [
      "allrecipes.com             28355\n",
      "food.com                   14661\n",
      "foodnetwork.com            11997\n",
      "yummly.com                  6590\n",
      "cooks.com                   5547\n",
      "epicurious.com              5060\n",
      "tasteofhome.com             4820\n",
      "myrecipes.com               3805\n",
      "recipes.sparkpeople.com     3671\n",
      "cdkitchen.com               2584\n",
      "bettycrocker.com            2325\n",
      "cookeatshare.com            2044\n",
      "southernfood.about.com      2012\n",
      "grouprecipes.com            1916\n",
      "recipe.com                  1460\n",
      "kraftrecipes.com            1420\n",
      "eatingwell.com              1400\n",
      "ifood.tv                    1295\n",
      "delish.com                  1050\n",
      "dtype: int64\n",
      "Number of files in the 3 first domains :  55013\n",
      "Percentage of chosen files among the total:  0.539279692585186\n"
     ]
    }
   ],
   "source": [
    "website_count.sort_values(ascending=False,inplace=True)\n",
    "website_count_used=website_count[website_count.values>1000]\n",
    "print(website_count_used)\n",
    "total_number_files = website_count_used.values.sum()\n",
    "chosen_number_files = website_count_used[0:3].values.sum()\n",
    "\n",
    "print(\"Number of files in the 3 first domains : \", chosen_number_files)\n",
    "print(\"Percentage of chosen files among the total: \", chosen_number_files/total_number_files)"
   ]
  },
  {
   "cell_type": "code",
   "execution_count": 8,
   "metadata": {},
   "outputs": [],
   "source": [
    "website_list_used=website_count_used.index.tolist()"
   ]
  },
  {
   "cell_type": "markdown",
   "metadata": {},
   "source": [
    "There is a lot of words in the ingredients which aren't specific to the ingredient itself, but which are just linked to the quantity of the ingredients, or something uninteresting for us. It is difficult to extract the quantity of the ingredients, as there is a lot of different units for expressing them. Hence, we decided first to juste remove all those terms for the moment, and focus our attention only on the ingredients (not on the quantity). "
   ]
  },
  {
   "cell_type": "code",
   "execution_count": 9,
   "metadata": {},
   "outputs": [],
   "source": [
    "#Words that have to be removed from the string in the website to keep only the ingredient:\n",
    "list_ingredient_to_remove = [\"metrics\",\"metric\",\"of\",\"teaspoon\", \"cup\", \"cups\",\"teaspoons\",\"ounce\",\"ounces\",\"pounds\",\"pound\",\"tablespoons\",\"chopped\",\"quarts\",\"fresh\",\\\n",
    "                            \"light\",\"plain\",\"popped\",\"medium\",\"shredded\",\"bunch\",\"tablespoon\",\"to\",\"taste\",\"pinch\",\"freshly\",\"ground\",\\\n",
    "                            \"canned\",\"carcass\",\"cubes\",\"dried\",\"frozen\",\"all\",\"purpose\",\"grated\",\"minced\",\"degree\",\"degrees\",\"optional\",\\\n",
    "                            \"jar\",\"quartered\",\"marinated\",\"strips\",\"strip\",\"asian\",\"stalks\",\"package\",\"can\",\"cans\",\"box\",\"container\",\\\n",
    "                            \"evaporated\",\"bottle\",\"cans\",\"extract\",\"squares\",\"german\",\"slices\",\"crushed\",\"uncooked\",\"seasoning\",\"small\",\\\n",
    "                            \"sweet\",\"packed\",\"sliced\",\"heavy\",\"condensed\",\"finely\",\"long\",\"grain\",\"sweetened\",\"firmly\",\"cooked\",\"crusts\",\"lean\",\\\n",
    "                            \"caps\",\"mix\",\"steaks\",\"large\",\"instant\",\"crumbs\",\"semisweet\",\"distilled\",\"packages\",\"pint\",\"miniature\",\"preserves\",\\\n",
    "                            \"processed\",\"chunky\",\"prepared\",\"seasoned\",\"american\",\"stock\",\"top\",\"sirloin\",\"tip\",\"peeled\",\"spears\",\"leaves\",\\\n",
    "                            \"belgian\",\"bob\",\"italian\",\"bottles\",\"boneless\",\"roast\",\"breast\",\"meat\",\"tenderloins\",\"granules\",\"chips\",\"converted\",\\\n",
    "                            \"containers\",\"coleslaw\",\"florets\",\"cube\",\"cubed\",\"diced\",\"crumbled\",\"head\",\"thighs\",\"halves\",\"drumsticks\",\"blend\",\\\n",
    "                            \"leaf\",\"bow\",\"tie\",\"stuffing\",\"dry\",\"boiling\",\"cover\",\"coarse\",\"kosher\",\"extra\",\"virgin\",\"fat\",\"free\",\"fluid\",\"hot\",\\\n",
    "                            \"chops\",\"loin\",\"shoulder\",\"roasted\",\"for\",\"frying\",\"diced\",\"thawed\",\"bone\",\"hocks\",\"shucked\",\"leftover\",\"corned\",\\\n",
    "                            \"weed\",\"summer\",\"wild\",\"whole\",\"very\",\"ripe\",\"unbaked\",\"crust\",\"unsalted\",\"unsifted\",\"unsweetened\",\"drops\",\"drop\",\\\n",
    "                            \"paste\",\"thickly\",\"swiss\",\"skinless\",\"flavored\",\"quart\",\"puff\",\"kernels\",\"kernel\",\"cracked\",\"as\",\"tortillas\",\"chunk\",\\\n",
    "                            \"dash\",\"dark\",\"hash\",\"brown\",\"hashbrown\",\"hungarian\",\"rinsed\",\"thin\",\"thinly\",\"thick\",\"stewed\",\"cleaned\",\"gelatin\",\\\n",
    "                            \"sifted\",\"skim\",\"slivered\",\"sprigs\",\"sage\",\"roma\",\"romano\",\"pasta\",\"reduced\",\"sodium\",\"refried\",\"refrigerated\",\\\n",
    "                            \"portobello\",\"nuggets\",\"tater\",\"pinto\",\"pudding\",\"pitted\",\"pinches\",\"relish\",\"penne\",\"deep\",\"mild\",\"melted\",\\\n",
    "                            \"maraschino\",\"loaf\",\"link\",\"jumbo\",\"inch\",\"jars\",\"jasmine\",\"generous\",\"gold\",\"graham\",\"granulated\",\"fried\",\"skins\",\\\n",
    "                            \"fire\",\"firm\",\"flaked\",\"flank\",\"family\",\"size\",\"eagle\",\"curd\",\"half\",\"russet\",\"round\",\"vidalia\",\"unbleached\",\"toll\",\\\n",
    "                            \"morsels\",\"toasted\",\"square\",\"soft\",\"sharp\",\"serrano\",\"seedless\",\"old\",\"provolone\",\"process\",\"premium\",\"pouch\",\"betty\",\\\n",
    "                            \"piri\",\"chunks\",\"smoked\",\"other\",\"original\",\"breaded\",\"tender\",\"tenders\",\"flowerets\",\"nonfat\",\"no\",\"calorie\",\"tail\",\\\n",
    "                            \"greek\",\"great\",\"northern\",\"southern\",\"envelope\",\"dill\",\"cold\",\"round\",\"steak\",\"brisket\",\"baby\",\"assorted\"]\n",
    "###################PASTA ??\n",
    "list_ingredient_to_remove = sorted(list_ingredient_to_remove)\n",
    "#print(list_ingredient_to_remove)"
   ]
  },
  {
   "cell_type": "markdown",
   "metadata": {},
   "source": [
    "### Creation of the recipe data:\n",
    "We have to be aware of certain things:\n",
    "- we might get a website containing only a list of recipes\n",
    "- we might find no rating -> we'll have to discard it\n",
    "- we might not be able to open and read the file\n",
    "\n",
    "For the pages containing lists of recipes, we tried to get informations about those recipes, but were unsucessful. As some links referenced in those were dead."
   ]
  },
  {
   "cell_type": "markdown",
   "metadata": {},
   "source": [
    "### Schema used for the scraping :\n",
    "\n",
    "We will based our dataset on the 3 first websites as said before. The variables we are interested in are the following :\n",
    "- The ranking, in order to have a value representing the success of the recipe.\n",
    "- The number of reviews, in order to have an idea of the confidence interval for the ranking estimation.\n",
    "- The time of preparation, which is a candidate which will be used to predict the ranking.\n",
    "- The ingredients : The candidate which will be used to predict the ranking.\n",
    "\n",
    "We haven't yet decided what to do exactly with the number of reviews, but as we want our ranking estimation to be significant enough, we could simply remove the recipes with a too small number of reviews."
   ]
  },
  {
   "cell_type": "markdown",
   "metadata": {},
   "source": [
    "## Pickle part of food.com\n",
    "\n",
    "The scraping takes a lot of time, then, after each website scraped, we store the results in pickles files."
   ]
  },
  {
   "cell_type": "code",
   "execution_count": 59,
   "metadata": {
    "scrolled": true
   },
   "outputs": [],
   "source": [
    "# Scrap all food.com files and put them in a pickle file\n",
    "recipe_data_food = pd.DataFrame(columns = ['Website','Recipe','Prepare time', 'Ranking', 'Reviews', 'Ingredients'])  \n",
    "list_unique_ingredients_food = []\n",
    "unique_ingredients_data_food = pd.DataFrame(columns = ['Ingredient','Count'])\n",
    "path_to_food_folder = Path('SortedFiles/food.com/filesName.txt')\n",
    "print(path_to_food_folder)\n",
    "\n",
    "with path_to_food_folder.open(\"r\") as file:\n",
    "    website = \"food.com\"\n",
    "    for f in file.readlines():\n",
    "        file_to_read =Path('recipePages') / f.strip()\n",
    "        try:\n",
    "            f = open(file_to_read,'r')\n",
    "            f.close()\n",
    "        except:\n",
    "            #print(\"We can't read the page: \",file_to_read)\n",
    "            continue\n",
    "        recipe_data_food, list_unique_ingredients_food, unique_ingredients_data_food = scrap_food(website, file_to_read,list_ingredient_to_remove,list_unique_ingredients_food, recipe_data_food, website_list_used,unique_ingredients_data_food)\n",
    "                                            \n",
    "recipe_data_food\n"
   ]
  },
  {
   "cell_type": "code",
   "execution_count": 199,
   "metadata": {},
   "outputs": [
    {
     "data": {
      "text/html": [
       "<div>\n",
       "<style scoped>\n",
       "    .dataframe tbody tr th:only-of-type {\n",
       "        vertical-align: middle;\n",
       "    }\n",
       "\n",
       "    .dataframe tbody tr th {\n",
       "        vertical-align: top;\n",
       "    }\n",
       "\n",
       "    .dataframe thead th {\n",
       "        text-align: right;\n",
       "    }\n",
       "</style>\n",
       "<table border=\"1\" class=\"dataframe\">\n",
       "  <thead>\n",
       "    <tr style=\"text-align: right;\">\n",
       "      <th></th>\n",
       "      <th>Website</th>\n",
       "      <th>Recipe</th>\n",
       "      <th>Prepare time</th>\n",
       "      <th>Ranking</th>\n",
       "      <th>Reviews</th>\n",
       "      <th>Ingredients</th>\n",
       "    </tr>\n",
       "  </thead>\n",
       "  <tbody>\n",
       "    <tr>\n",
       "      <td>0</td>\n",
       "      <td>food.com</td>\n",
       "      <td>Ecuadorean Quinoa and Vegetable Soup</td>\n",
       "      <td>75</td>\n",
       "      <td>4.86</td>\n",
       "      <td>31</td>\n",
       "      <td>[quinoa, olive oil, onions, salt, potato, red ...</td>\n",
       "    </tr>\n",
       "    <tr>\n",
       "      <td>1</td>\n",
       "      <td>food.com</td>\n",
       "      <td>Authentic Injera (aka Ethiopian Flat Bread)</td>\n",
       "      <td>4330</td>\n",
       "      <td>3.13</td>\n",
       "      <td>17</td>\n",
       "      <td>[teff, water, salt]</td>\n",
       "    </tr>\n",
       "    <tr>\n",
       "      <td>2</td>\n",
       "      <td>food.com</td>\n",
       "      <td>Healthy Vegan Coleslaw</td>\n",
       "      <td>10</td>\n",
       "      <td>5.00</td>\n",
       "      <td>1</td>\n",
       "      <td>[cabbage, vegan mayonnaise, apple cider vinega...</td>\n",
       "    </tr>\n",
       "    <tr>\n",
       "      <td>3</td>\n",
       "      <td>food.com</td>\n",
       "      <td>Grilled Flatbread</td>\n",
       "      <td>35</td>\n",
       "      <td>4.67</td>\n",
       "      <td>14</td>\n",
       "      <td>[active yeast, olive oil, flour, salt]</td>\n",
       "    </tr>\n",
       "    <tr>\n",
       "      <td>4</td>\n",
       "      <td>food.com</td>\n",
       "      <td>Baked Margarita Pie</td>\n",
       "      <td>20</td>\n",
       "      <td>5.00</td>\n",
       "      <td>3</td>\n",
       "      <td>[cracker, milk]</td>\n",
       "    </tr>\n",
       "    <tr>\n",
       "      <td>...</td>\n",
       "      <td>...</td>\n",
       "      <td>...</td>\n",
       "      <td>...</td>\n",
       "      <td>...</td>\n",
       "      <td>...</td>\n",
       "      <td>...</td>\n",
       "    </tr>\n",
       "    <tr>\n",
       "      <td>12879</td>\n",
       "      <td>food.com</td>\n",
       "      <td>Healthy Italian Breadsticks or Pizza Crust</td>\n",
       "      <td>75</td>\n",
       "      <td>5.00</td>\n",
       "      <td>11</td>\n",
       "      <td>[water, sugar, salt, olive oil, garlic powder,...</td>\n",
       "    </tr>\n",
       "    <tr>\n",
       "      <td>12880</td>\n",
       "      <td>food.com</td>\n",
       "      <td>Onion Dip (Raw Vegan)</td>\n",
       "      <td>15</td>\n",
       "      <td>4.67</td>\n",
       "      <td>3</td>\n",
       "      <td>[water, sea salt, garlic clove, onion, chives]</td>\n",
       "    </tr>\n",
       "    <tr>\n",
       "      <td>12881</td>\n",
       "      <td>food.com</td>\n",
       "      <td>Blink of an Eye Bell Pepper Saute</td>\n",
       "      <td>5</td>\n",
       "      <td>5.00</td>\n",
       "      <td>4</td>\n",
       "      <td>[bell pepper, olive oil, red onion, garlic clo...</td>\n",
       "    </tr>\n",
       "    <tr>\n",
       "      <td>12882</td>\n",
       "      <td>food.com</td>\n",
       "      <td>Frosted Pineapple Cookies</td>\n",
       "      <td>27</td>\n",
       "      <td>4.75</td>\n",
       "      <td>9</td>\n",
       "      <td>[pineapple, butter, sugar, egg, vanilla, flour...</td>\n",
       "    </tr>\n",
       "    <tr>\n",
       "      <td>12883</td>\n",
       "      <td>food.com</td>\n",
       "      <td>No-Meat Tater Tot Casserole (Vegetarian)</td>\n",
       "      <td>65</td>\n",
       "      <td>3.94</td>\n",
       "      <td>17</td>\n",
       "      <td>[onion, celery, olive oil, garlic powder, blac...</td>\n",
       "    </tr>\n",
       "  </tbody>\n",
       "</table>\n",
       "<p>12884 rows × 6 columns</p>\n",
       "</div>"
      ],
      "text/plain": [
       "        Website                                       Recipe Prepare time  \\\n",
       "0      food.com         Ecuadorean Quinoa and Vegetable Soup           75   \n",
       "1      food.com  Authentic Injera (aka Ethiopian Flat Bread)         4330   \n",
       "2      food.com                       Healthy Vegan Coleslaw           10   \n",
       "3      food.com                            Grilled Flatbread           35   \n",
       "4      food.com                          Baked Margarita Pie           20   \n",
       "...         ...                                          ...          ...   \n",
       "12879  food.com   Healthy Italian Breadsticks or Pizza Crust           75   \n",
       "12880  food.com                        Onion Dip (Raw Vegan)           15   \n",
       "12881  food.com            Blink of an Eye Bell Pepper Saute            5   \n",
       "12882  food.com                    Frosted Pineapple Cookies           27   \n",
       "12883  food.com     No-Meat Tater Tot Casserole (Vegetarian)           65   \n",
       "\n",
       "       Ranking Reviews                                        Ingredients  \n",
       "0         4.86      31  [quinoa, olive oil, onions, salt, potato, red ...  \n",
       "1         3.13      17                                [teff, water, salt]  \n",
       "2         5.00       1  [cabbage, vegan mayonnaise, apple cider vinega...  \n",
       "3         4.67      14             [active yeast, olive oil, flour, salt]  \n",
       "4         5.00       3                                    [cracker, milk]  \n",
       "...        ...     ...                                                ...  \n",
       "12879     5.00      11  [water, sugar, salt, olive oil, garlic powder,...  \n",
       "12880     4.67       3     [water, sea salt, garlic clove, onion, chives]  \n",
       "12881     5.00       4  [bell pepper, olive oil, red onion, garlic clo...  \n",
       "12882     4.75       9  [pineapple, butter, sugar, egg, vanilla, flour...  \n",
       "12883     3.94      17  [onion, celery, olive oil, garlic powder, blac...  \n",
       "\n",
       "[12884 rows x 6 columns]"
      ]
     },
     "execution_count": 199,
     "metadata": {},
     "output_type": "execute_result"
    }
   ],
   "source": [
    "recipe_data_food"
   ]
  },
  {
   "cell_type": "markdown",
   "metadata": {},
   "source": [
    "Save data with pickle"
   ]
  },
  {
   "cell_type": "code",
   "execution_count": 207,
   "metadata": {},
   "outputs": [],
   "source": [
    "recipe_data_food.to_pickle(\"data_pickles/recipe_data_food.pkl\")\n",
    "unique_ingredients_data_food.to_pickle(\"data_pickles/unique_ingredients_data_food.pkl\")\n",
    "with open('data_pickles/list_uni_ingr_food.pkl', 'wb') as f:\n",
    "    pickle.dump(list_unique_ingredients_food, f)"
   ]
  },
  {
   "cell_type": "markdown",
   "metadata": {},
   "source": [
    "Retrieve data with pickle"
   ]
  },
  {
   "cell_type": "code",
   "execution_count": 2,
   "metadata": {},
   "outputs": [],
   "source": [
    "recipe_data = pd.read_pickle(\"data_pickles/recipe_data_food.pkl\")\n",
    "unique_ingredients_data = pd.read_pickle(\"data_pickles/unique_ingredients_data_food.pkl\")\n",
    "with open('data_pickles/list_uni_ingr_food.pkl', 'rb') as f:\n",
    "    list_unique_ingredients = pickle.load(f)"
   ]
  },
  {
   "cell_type": "code",
   "execution_count": 3,
   "metadata": {},
   "outputs": [
    {
     "data": {
      "text/html": [
       "<div>\n",
       "<style scoped>\n",
       "    .dataframe tbody tr th:only-of-type {\n",
       "        vertical-align: middle;\n",
       "    }\n",
       "\n",
       "    .dataframe tbody tr th {\n",
       "        vertical-align: top;\n",
       "    }\n",
       "\n",
       "    .dataframe thead th {\n",
       "        text-align: right;\n",
       "    }\n",
       "</style>\n",
       "<table border=\"1\" class=\"dataframe\">\n",
       "  <thead>\n",
       "    <tr style=\"text-align: right;\">\n",
       "      <th></th>\n",
       "      <th>Ingredient</th>\n",
       "      <th>Count</th>\n",
       "    </tr>\n",
       "  </thead>\n",
       "  <tbody>\n",
       "    <tr>\n",
       "      <td>0</td>\n",
       "      <td>quinoa</td>\n",
       "      <td>39</td>\n",
       "    </tr>\n",
       "    <tr>\n",
       "      <td>1</td>\n",
       "      <td>olive oil</td>\n",
       "      <td>1931</td>\n",
       "    </tr>\n",
       "    <tr>\n",
       "      <td>2</td>\n",
       "      <td>onions</td>\n",
       "      <td>1</td>\n",
       "    </tr>\n",
       "    <tr>\n",
       "      <td>3</td>\n",
       "      <td>salt</td>\n",
       "      <td>5515</td>\n",
       "    </tr>\n",
       "    <tr>\n",
       "      <td>4</td>\n",
       "      <td>potato</td>\n",
       "      <td>106</td>\n",
       "    </tr>\n",
       "    <tr>\n",
       "      <td>...</td>\n",
       "      <td>...</td>\n",
       "      <td>...</td>\n",
       "    </tr>\n",
       "    <tr>\n",
       "      <td>1634</td>\n",
       "      <td>chicory lettuce</td>\n",
       "      <td>1</td>\n",
       "    </tr>\n",
       "    <tr>\n",
       "      <td>1635</td>\n",
       "      <td>parma ham</td>\n",
       "      <td>1</td>\n",
       "    </tr>\n",
       "    <tr>\n",
       "      <td>1636</td>\n",
       "      <td>tagliatelle noodles</td>\n",
       "      <td>2</td>\n",
       "    </tr>\n",
       "    <tr>\n",
       "      <td>1637</td>\n",
       "      <td>vegan cheese</td>\n",
       "      <td>1</td>\n",
       "    </tr>\n",
       "    <tr>\n",
       "      <td>1638</td>\n",
       "      <td>riesling wine</td>\n",
       "      <td>1</td>\n",
       "    </tr>\n",
       "  </tbody>\n",
       "</table>\n",
       "<p>1639 rows × 2 columns</p>\n",
       "</div>"
      ],
      "text/plain": [
       "               Ingredient Count\n",
       "0                  quinoa    39\n",
       "1               olive oil  1931\n",
       "2                  onions     1\n",
       "3                    salt  5515\n",
       "4                  potato   106\n",
       "...                   ...   ...\n",
       "1634      chicory lettuce     1\n",
       "1635            parma ham     1\n",
       "1636  tagliatelle noodles     2\n",
       "1637         vegan cheese     1\n",
       "1638        riesling wine     1\n",
       "\n",
       "[1639 rows x 2 columns]"
      ]
     },
     "execution_count": 3,
     "metadata": {},
     "output_type": "execute_result"
    }
   ],
   "source": [
    "unique_ingredients_data"
   ]
  },
  {
   "cell_type": "code",
   "execution_count": null,
   "metadata": {
    "jupyter": {
     "outputs_hidden": true
    }
   },
   "outputs": [],
   "source": [
    "# Scrap all foodnetwork.com files and put them in a pickle file\n",
    "path_to_foodnet_folder = Path('SortedFiles/foodnetwork.com/filesName.txt')\n",
    "print(path_to_foodnet_folder)\n",
    "\n",
    "with path_to_foodnet_folder.open(\"r\") as file:\n",
    "    website = \"foodnetwork.com\"\n",
    "    for f in file.readlines():\n",
    "        file_to_read =Path('recipePages') / f.strip()\n",
    "        try:\n",
    "            f = open(file_to_read,'r')\n",
    "            f.close()\n",
    "        except:\n",
    "            #print(\"We can't read the page: \",file_to_read)\n",
    "            continue\n",
    "        recipe_data,list_unique_ingredients, unique_ingredients_data= scrap_foodnetwork(website, file_to_read,list_ingredient_to_remove,list_unique_ingredients, recipe_data, website_list_used,unique_ingredients_data)\n"
   ]
  },
  {
   "cell_type": "code",
   "execution_count": 239,
   "metadata": {},
   "outputs": [],
   "source": [
    "recipe_data.to_pickle(\"data_pickles/recipe_data_foodnet.pkl\")\n",
    "unique_ingredients_data.to_pickle(\"data_pickles/unique_ingredients_data_foodnet.pkl\")\n",
    "with open('data_pickles/list_uni_ingr_foodnet.pkl', 'wb') as f:\n",
    "    pickle.dump(list_unique_ingredients_food, f)"
   ]
  },
  {
   "cell_type": "code",
   "execution_count": 245,
   "metadata": {},
   "outputs": [],
   "source": [
    "recipe_data = pd.read_pickle(\"data_pickles/recipe_data_foodnet.pkl\")\n",
    "unique_ingredients_data = pd.read_pickle(\"data_pickles/unique_ingredients_data_foodnet.pkl\")\n",
    "with open('data_pickles/list_uni_ingr_foodnet.pkl', 'rb') as f:\n",
    "    list_unique_ingredients = pickle.load(f)"
   ]
  },
  {
   "cell_type": "code",
   "execution_count": null,
   "metadata": {
    "jupyter": {
     "outputs_hidden": true
    }
   },
   "outputs": [],
   "source": [
    "# Scrap allrecipes.com files and put them in a pickle file\n",
    "path_to_allrec_folder = Path('SortedFiles/allrecipes.com/filesName.txt')\n",
    "print(path_to_allrec_folder)\n",
    "\n",
    "with path_to_allrec_folder.open(\"r\") as file:\n",
    "    website = \"allrecipes.com\"\n",
    "    for f in file.readlines():\n",
    "        file_to_read =Path('recipePages') / f.strip()\n",
    "        try:\n",
    "            f = open(file_to_read,'r')\n",
    "            f.close()\n",
    "        except:\n",
    "            #print(\"We can't read the page: \",file_to_read)\n",
    "            continue\n",
    "        recipe_data, list_unique_ingredients, unique_ingredients_data = scrap_allrecipes(website, file_to_read,list_ingredient_to_remove,list_unique_ingredients, recipe_data, website_list_used,unique_ingredients_data)\n"
   ]
  },
  {
   "cell_type": "code",
   "execution_count": 247,
   "metadata": {},
   "outputs": [],
   "source": [
    "recipe_data.to_pickle(\"data_pickles/recipe_data_complete.pkl\")\n",
    "unique_ingredients_data.to_pickle(\"data_pickles/unique_ingredients_data_complete.pkl\")\n",
    "with open('data_pickles/list_uni_ingr_complete.pkl', 'wb') as f:\n",
    "    pickle.dump(list_unique_ingredients_food, f)"
   ]
  },
  {
   "cell_type": "markdown",
   "metadata": {},
   "source": [
    "<a id=\"load\"></a>\n",
    "## Load Dataset\n",
    "\n",
    "[Table of Contents](#up)\n",
    "\n",
    "We start by reloading the dataset. But we only keep the 2000 first recipes as the computational time for building the graph is $\\mathcal{O}(N^2)$ if $N$ is the number of recipes."
   ]
  },
  {
   "cell_type": "code",
   "execution_count": 164,
   "metadata": {},
   "outputs": [],
   "source": [
    "recipe_data = pd.read_pickle(\"data_pickles/recipe_data_complete.pkl\")\n",
    "unique_ingredients_data = pd.read_pickle(\"data_pickles/unique_ingredients_data_complete.pkl\")\n",
    "with open('data_pickles/list_uni_ingr_complete.pkl', 'rb') as f:\n",
    "    list_unique_ingredients = pickle.load(f)"
   ]
  },
  {
   "cell_type": "code",
   "execution_count": 165,
   "metadata": {},
   "outputs": [],
   "source": [
    "recipe_data = recipe_data[:2000]"
   ]
  },
  {
   "cell_type": "markdown",
   "metadata": {},
   "source": [
    "Only keep the two columns Recipe and Ingredients."
   ]
  },
  {
   "cell_type": "code",
   "execution_count": 166,
   "metadata": {},
   "outputs": [],
   "source": [
    "recipe_data = recipe_data[['Recipe', 'Ingredients']].copy()"
   ]
  },
  {
   "cell_type": "markdown",
   "metadata": {},
   "source": [
    "<a id=\"clean\"></a>\n",
    "## Clean Dataset\n",
    "\n",
    "[Table of Contents](#up)\n",
    "\n",
    "We drop duplicate ingredients in the ingredients list and sort it to drop duplicate recipes. We also remove all recipes that have no ingredients."
   ]
  },
  {
   "cell_type": "code",
   "execution_count": 167,
   "metadata": {},
   "outputs": [],
   "source": [
    "def get_sorted_list_unique_ingredients(l):\n",
    "    return sorted(list(set(l)))"
   ]
  },
  {
   "cell_type": "code",
   "execution_count": 168,
   "metadata": {},
   "outputs": [],
   "source": [
    "# most frequent ingredient to remove (feel free to change them)\n",
    "ingr_to_remove = ['salt', 'water', 'sugar','butter', 'olive oil','sugar','flour','egg','onion','pepper','black pepper',\n",
    "                  'baking soda','baking powder','vanilla','garlic clove','milk']\n",
    "\n",
    "def remove_ingredients(ingr):\n",
    "    for i in ingr_to_remove:\n",
    "        if i in ingr:\n",
    "            ingr.remove(i)\n",
    "    return ingr"
   ]
  },
  {
   "cell_type": "code",
   "execution_count": 169,
   "metadata": {},
   "outputs": [],
   "source": [
    "# Clean lists of ingredients : eliminate duplicates and sort [sugar, sugar, onions,...] -> [onions, sugar,...]\n",
    "recipe_data['Ingredients'] = recipe_data['Ingredients'].apply(lambda ingr: get_sorted_list_unique_ingredients(ingr))\n",
    "\n",
    "# Remove most frequent ingredients \n",
    "#recipe_data['Ingredients'] = recipe_data['Ingredients'].apply(lambda ingr: remove_ingredients(ingr))\n",
    "\n",
    "# Ingredient list to single coma-separated string (comparable by \"drop_duplicates\" function)\n",
    "recipe_data['Ingredients'] = recipe_data['Ingredients'].apply(lambda ingr_list: ','.join(ingr_list))\n",
    "\n",
    "# Drop duplicates\n",
    "recipe_data.drop_duplicates(inplace=True)\n",
    "\n",
    "# Retain only if ingredients are not empty\n",
    "recipe_data = recipe_data[recipe_data['Ingredients'] != \"\"]\n",
    "\n",
    "# Back to list of ingredients\n",
    "#recipe_data['Ingredients'] = recipe_data['Ingredients'].apply(lambda ingr: ingr.split(','))"
   ]
  },
  {
   "cell_type": "markdown",
   "metadata": {},
   "source": [
    "<a id=\"weighting\"></a>\n",
    "## Compare Recipes\n",
    "\n",
    "[Table of Contents](#up)\n",
    "\n",
    "We compute the Jaccard similarity between ingredients of all pairs of recipes. We start by comparing all pairs of recipes."
   ]
  },
  {
   "cell_type": "code",
   "execution_count": 170,
   "metadata": {},
   "outputs": [],
   "source": [
    "# Give a unique index to each recipe, in increasing sequence\n",
    "recipe_data['Idx'] = [i for i in range(len(recipe_data))]"
   ]
  },
  {
   "cell_type": "code",
   "execution_count": 171,
   "metadata": {},
   "outputs": [
    {
     "data": {
      "text/html": [
       "<div>\n",
       "<style scoped>\n",
       "    .dataframe tbody tr th:only-of-type {\n",
       "        vertical-align: middle;\n",
       "    }\n",
       "\n",
       "    .dataframe tbody tr th {\n",
       "        vertical-align: top;\n",
       "    }\n",
       "\n",
       "    .dataframe thead th {\n",
       "        text-align: right;\n",
       "    }\n",
       "</style>\n",
       "<table border=\"1\" class=\"dataframe\">\n",
       "  <thead>\n",
       "    <tr style=\"text-align: right;\">\n",
       "      <th></th>\n",
       "      <th>Idx</th>\n",
       "      <th>Recipe</th>\n",
       "      <th>Ingredients</th>\n",
       "    </tr>\n",
       "  </thead>\n",
       "  <tbody>\n",
       "    <tr>\n",
       "      <th>0</th>\n",
       "      <td>0</td>\n",
       "      <td>Ecuadorean Quinoa and Vegetable Soup</td>\n",
       "      <td>coriander,cumin,green bell pepper,lemon juice,...</td>\n",
       "    </tr>\n",
       "    <tr>\n",
       "      <th>1</th>\n",
       "      <td>1</td>\n",
       "      <td>Authentic Injera (aka Ethiopian Flat Bread)</td>\n",
       "      <td>salt,teff,water</td>\n",
       "    </tr>\n",
       "    <tr>\n",
       "      <th>2</th>\n",
       "      <td>2</td>\n",
       "      <td>Healthy Vegan Coleslaw</td>\n",
       "      <td>apple cider vinegar,cabbage,mustard,pepper,sal...</td>\n",
       "    </tr>\n",
       "    <tr>\n",
       "      <th>3</th>\n",
       "      <td>3</td>\n",
       "      <td>Grilled Flatbread</td>\n",
       "      <td>active yeast,flour,olive oil,salt</td>\n",
       "    </tr>\n",
       "    <tr>\n",
       "      <th>4</th>\n",
       "      <td>4</td>\n",
       "      <td>Baked Margarita Pie</td>\n",
       "      <td>cracker,milk</td>\n",
       "    </tr>\n",
       "    <tr>\n",
       "      <th>...</th>\n",
       "      <td>...</td>\n",
       "      <td>...</td>\n",
       "      <td>...</td>\n",
       "    </tr>\n",
       "    <tr>\n",
       "      <th>1994</th>\n",
       "      <td>1948</td>\n",
       "      <td>Greek Baked Fish</td>\n",
       "      <td>capers,feta cheese,garlic clove,kalamata olive...</td>\n",
       "    </tr>\n",
       "    <tr>\n",
       "      <th>1995</th>\n",
       "      <td>1949</td>\n",
       "      <td>Maryland Crab Balls</td>\n",
       "      <td>dijon mustard,egg,flour,lemon juice,mayonnaise</td>\n",
       "    </tr>\n",
       "    <tr>\n",
       "      <th>1997</th>\n",
       "      <td>1950</td>\n",
       "      <td>Meatballs With Gravy</td>\n",
       "      <td>baking powder,beef,egg,milk,onion,pepper,salt</td>\n",
       "    </tr>\n",
       "    <tr>\n",
       "      <th>1998</th>\n",
       "      <td>1951</td>\n",
       "      <td>Chicken With Parmesan Cream Sauce</td>\n",
       "      <td>butter,chicken breasts,flour,mushroom,whipping...</td>\n",
       "    </tr>\n",
       "    <tr>\n",
       "      <th>1999</th>\n",
       "      <td>1952</td>\n",
       "      <td>Easy, Healthy Baked Chicken Breasts</td>\n",
       "      <td>black pepper,chicken breasts,chicken broth,oni...</td>\n",
       "    </tr>\n",
       "  </tbody>\n",
       "</table>\n",
       "<p>1953 rows × 3 columns</p>\n",
       "</div>"
      ],
      "text/plain": [
       "       Idx                                       Recipe  \\\n",
       "0        0         Ecuadorean Quinoa and Vegetable Soup   \n",
       "1        1  Authentic Injera (aka Ethiopian Flat Bread)   \n",
       "2        2                       Healthy Vegan Coleslaw   \n",
       "3        3                            Grilled Flatbread   \n",
       "4        4                          Baked Margarita Pie   \n",
       "...    ...                                          ...   \n",
       "1994  1948                             Greek Baked Fish   \n",
       "1995  1949                          Maryland Crab Balls   \n",
       "1997  1950                         Meatballs With Gravy   \n",
       "1998  1951            Chicken With Parmesan Cream Sauce   \n",
       "1999  1952          Easy, Healthy Baked Chicken Breasts   \n",
       "\n",
       "                                            Ingredients  \n",
       "0     coriander,cumin,green bell pepper,lemon juice,...  \n",
       "1                                       salt,teff,water  \n",
       "2     apple cider vinegar,cabbage,mustard,pepper,sal...  \n",
       "3                     active yeast,flour,olive oil,salt  \n",
       "4                                          cracker,milk  \n",
       "...                                                 ...  \n",
       "1994  capers,feta cheese,garlic clove,kalamata olive...  \n",
       "1995     dijon mustard,egg,flour,lemon juice,mayonnaise  \n",
       "1997      baking powder,beef,egg,milk,onion,pepper,salt  \n",
       "1998  butter,chicken breasts,flour,mushroom,whipping...  \n",
       "1999  black pepper,chicken breasts,chicken broth,oni...  \n",
       "\n",
       "[1953 rows x 3 columns]"
      ]
     },
     "execution_count": 171,
     "metadata": {},
     "output_type": "execute_result"
    }
   ],
   "source": [
    "# Order columns\n",
    "recipe_data = recipe_data[['Idx', 'Recipe', 'Ingredients']]\n",
    "recipe_data"
   ]
  },
  {
   "cell_type": "code",
   "execution_count": 172,
   "metadata": {},
   "outputs": [],
   "source": [
    "import pandasql\n",
    "from pandasql import sqldf"
   ]
  },
  {
   "cell_type": "code",
   "execution_count": 173,
   "metadata": {},
   "outputs": [],
   "source": [
    "pysqldf = lambda q: sqldf(q, globals())"
   ]
  },
  {
   "cell_type": "code",
   "execution_count": 174,
   "metadata": {},
   "outputs": [],
   "source": [
    "# Join all recipes\n",
    "q = \"\"\"\n",
    "    SELECT r1.Idx, r1.Recipe, r1.Ingredients, r2.Idx as Idx2, r2.Recipe as Recipe2, r2.Ingredients as Ingredients2\n",
    "    FROM recipe_data as r1, recipe_data as r2 \n",
    "    WHERE r1.Idx < r2.Idx\n",
    "\"\"\"\n",
    "\n",
    "recipes_joined = pysqldf(q)"
   ]
  },
  {
   "cell_type": "code",
   "execution_count": 175,
   "metadata": {},
   "outputs": [
    {
     "data": {
      "text/html": [
       "<div>\n",
       "<style scoped>\n",
       "    .dataframe tbody tr th:only-of-type {\n",
       "        vertical-align: middle;\n",
       "    }\n",
       "\n",
       "    .dataframe tbody tr th {\n",
       "        vertical-align: top;\n",
       "    }\n",
       "\n",
       "    .dataframe thead th {\n",
       "        text-align: right;\n",
       "    }\n",
       "</style>\n",
       "<table border=\"1\" class=\"dataframe\">\n",
       "  <thead>\n",
       "    <tr style=\"text-align: right;\">\n",
       "      <th></th>\n",
       "      <th>Idx</th>\n",
       "      <th>Recipe</th>\n",
       "      <th>Ingredients</th>\n",
       "      <th>Idx2</th>\n",
       "      <th>Recipe2</th>\n",
       "      <th>Ingredients2</th>\n",
       "    </tr>\n",
       "  </thead>\n",
       "  <tbody>\n",
       "    <tr>\n",
       "      <th>0</th>\n",
       "      <td>0</td>\n",
       "      <td>Ecuadorean Quinoa and Vegetable Soup</td>\n",
       "      <td>coriander,cumin,green bell pepper,lemon juice,...</td>\n",
       "      <td>1</td>\n",
       "      <td>Authentic Injera (aka Ethiopian Flat Bread)</td>\n",
       "      <td>salt,teff,water</td>\n",
       "    </tr>\n",
       "    <tr>\n",
       "      <th>1</th>\n",
       "      <td>0</td>\n",
       "      <td>Ecuadorean Quinoa and Vegetable Soup</td>\n",
       "      <td>coriander,cumin,green bell pepper,lemon juice,...</td>\n",
       "      <td>2</td>\n",
       "      <td>Healthy Vegan Coleslaw</td>\n",
       "      <td>apple cider vinegar,cabbage,mustard,pepper,sal...</td>\n",
       "    </tr>\n",
       "    <tr>\n",
       "      <th>2</th>\n",
       "      <td>0</td>\n",
       "      <td>Ecuadorean Quinoa and Vegetable Soup</td>\n",
       "      <td>coriander,cumin,green bell pepper,lemon juice,...</td>\n",
       "      <td>3</td>\n",
       "      <td>Grilled Flatbread</td>\n",
       "      <td>active yeast,flour,olive oil,salt</td>\n",
       "    </tr>\n",
       "    <tr>\n",
       "      <th>3</th>\n",
       "      <td>0</td>\n",
       "      <td>Ecuadorean Quinoa and Vegetable Soup</td>\n",
       "      <td>coriander,cumin,green bell pepper,lemon juice,...</td>\n",
       "      <td>4</td>\n",
       "      <td>Baked Margarita Pie</td>\n",
       "      <td>cracker,milk</td>\n",
       "    </tr>\n",
       "    <tr>\n",
       "      <th>4</th>\n",
       "      <td>0</td>\n",
       "      <td>Ecuadorean Quinoa and Vegetable Soup</td>\n",
       "      <td>coriander,cumin,green bell pepper,lemon juice,...</td>\n",
       "      <td>5</td>\n",
       "      <td>Lemon Tahini Dressing</td>\n",
       "      <td>garlic clove,lemon juice,soy sauce,tahini,water</td>\n",
       "    </tr>\n",
       "    <tr>\n",
       "      <th>...</th>\n",
       "      <td>...</td>\n",
       "      <td>...</td>\n",
       "      <td>...</td>\n",
       "      <td>...</td>\n",
       "      <td>...</td>\n",
       "      <td>...</td>\n",
       "    </tr>\n",
       "    <tr>\n",
       "      <th>1906123</th>\n",
       "      <td>1949</td>\n",
       "      <td>Maryland Crab Balls</td>\n",
       "      <td>dijon mustard,egg,flour,lemon juice,mayonnaise</td>\n",
       "      <td>1951</td>\n",
       "      <td>Chicken With Parmesan Cream Sauce</td>\n",
       "      <td>butter,chicken breasts,flour,mushroom,whipping...</td>\n",
       "    </tr>\n",
       "    <tr>\n",
       "      <th>1906124</th>\n",
       "      <td>1949</td>\n",
       "      <td>Maryland Crab Balls</td>\n",
       "      <td>dijon mustard,egg,flour,lemon juice,mayonnaise</td>\n",
       "      <td>1952</td>\n",
       "      <td>Easy, Healthy Baked Chicken Breasts</td>\n",
       "      <td>black pepper,chicken breasts,chicken broth,oni...</td>\n",
       "    </tr>\n",
       "    <tr>\n",
       "      <th>1906125</th>\n",
       "      <td>1950</td>\n",
       "      <td>Meatballs With Gravy</td>\n",
       "      <td>baking powder,beef,egg,milk,onion,pepper,salt</td>\n",
       "      <td>1951</td>\n",
       "      <td>Chicken With Parmesan Cream Sauce</td>\n",
       "      <td>butter,chicken breasts,flour,mushroom,whipping...</td>\n",
       "    </tr>\n",
       "    <tr>\n",
       "      <th>1906126</th>\n",
       "      <td>1950</td>\n",
       "      <td>Meatballs With Gravy</td>\n",
       "      <td>baking powder,beef,egg,milk,onion,pepper,salt</td>\n",
       "      <td>1952</td>\n",
       "      <td>Easy, Healthy Baked Chicken Breasts</td>\n",
       "      <td>black pepper,chicken breasts,chicken broth,oni...</td>\n",
       "    </tr>\n",
       "    <tr>\n",
       "      <th>1906127</th>\n",
       "      <td>1951</td>\n",
       "      <td>Chicken With Parmesan Cream Sauce</td>\n",
       "      <td>butter,chicken breasts,flour,mushroom,whipping...</td>\n",
       "      <td>1952</td>\n",
       "      <td>Easy, Healthy Baked Chicken Breasts</td>\n",
       "      <td>black pepper,chicken breasts,chicken broth,oni...</td>\n",
       "    </tr>\n",
       "  </tbody>\n",
       "</table>\n",
       "<p>1906128 rows × 6 columns</p>\n",
       "</div>"
      ],
      "text/plain": [
       "          Idx                                Recipe  \\\n",
       "0           0  Ecuadorean Quinoa and Vegetable Soup   \n",
       "1           0  Ecuadorean Quinoa and Vegetable Soup   \n",
       "2           0  Ecuadorean Quinoa and Vegetable Soup   \n",
       "3           0  Ecuadorean Quinoa and Vegetable Soup   \n",
       "4           0  Ecuadorean Quinoa and Vegetable Soup   \n",
       "...       ...                                   ...   \n",
       "1906123  1949                   Maryland Crab Balls   \n",
       "1906124  1949                   Maryland Crab Balls   \n",
       "1906125  1950                  Meatballs With Gravy   \n",
       "1906126  1950                  Meatballs With Gravy   \n",
       "1906127  1951     Chicken With Parmesan Cream Sauce   \n",
       "\n",
       "                                               Ingredients  Idx2  \\\n",
       "0        coriander,cumin,green bell pepper,lemon juice,...     1   \n",
       "1        coriander,cumin,green bell pepper,lemon juice,...     2   \n",
       "2        coriander,cumin,green bell pepper,lemon juice,...     3   \n",
       "3        coriander,cumin,green bell pepper,lemon juice,...     4   \n",
       "4        coriander,cumin,green bell pepper,lemon juice,...     5   \n",
       "...                                                    ...   ...   \n",
       "1906123     dijon mustard,egg,flour,lemon juice,mayonnaise  1951   \n",
       "1906124     dijon mustard,egg,flour,lemon juice,mayonnaise  1952   \n",
       "1906125      baking powder,beef,egg,milk,onion,pepper,salt  1951   \n",
       "1906126      baking powder,beef,egg,milk,onion,pepper,salt  1952   \n",
       "1906127  butter,chicken breasts,flour,mushroom,whipping...  1952   \n",
       "\n",
       "                                             Recipe2  \\\n",
       "0        Authentic Injera (aka Ethiopian Flat Bread)   \n",
       "1                             Healthy Vegan Coleslaw   \n",
       "2                                  Grilled Flatbread   \n",
       "3                                Baked Margarita Pie   \n",
       "4                              Lemon Tahini Dressing   \n",
       "...                                              ...   \n",
       "1906123            Chicken With Parmesan Cream Sauce   \n",
       "1906124          Easy, Healthy Baked Chicken Breasts   \n",
       "1906125            Chicken With Parmesan Cream Sauce   \n",
       "1906126          Easy, Healthy Baked Chicken Breasts   \n",
       "1906127          Easy, Healthy Baked Chicken Breasts   \n",
       "\n",
       "                                              Ingredients2  \n",
       "0                                          salt,teff,water  \n",
       "1        apple cider vinegar,cabbage,mustard,pepper,sal...  \n",
       "2                        active yeast,flour,olive oil,salt  \n",
       "3                                             cracker,milk  \n",
       "4          garlic clove,lemon juice,soy sauce,tahini,water  \n",
       "...                                                    ...  \n",
       "1906123  butter,chicken breasts,flour,mushroom,whipping...  \n",
       "1906124  black pepper,chicken breasts,chicken broth,oni...  \n",
       "1906125  butter,chicken breasts,flour,mushroom,whipping...  \n",
       "1906126  black pepper,chicken breasts,chicken broth,oni...  \n",
       "1906127  black pepper,chicken breasts,chicken broth,oni...  \n",
       "\n",
       "[1906128 rows x 6 columns]"
      ]
     },
     "execution_count": 175,
     "metadata": {},
     "output_type": "execute_result"
    }
   ],
   "source": [
    "recipes_joined"
   ]
  },
  {
   "cell_type": "code",
   "execution_count": 176,
   "metadata": {},
   "outputs": [],
   "source": [
    "def jaccard_sim(list_1, list_2):\n",
    "    list_1 = list_1.split(',')\n",
    "    list_2 = list_2.split(',')\n",
    "    s_1 = set(list_1)\n",
    "    s_2 = set(list_2)\n",
    "    \n",
    "    if len(s_1.union(s_2)) == 0:\n",
    "        return 0\n",
    "    \n",
    "    return len(s_1.intersection(s_2)) / len(s_1.union(s_2))"
   ]
  },
  {
   "cell_type": "code",
   "execution_count": 177,
   "metadata": {},
   "outputs": [
    {
     "data": {
      "text/html": [
       "<div>\n",
       "<style scoped>\n",
       "    .dataframe tbody tr th:only-of-type {\n",
       "        vertical-align: middle;\n",
       "    }\n",
       "\n",
       "    .dataframe tbody tr th {\n",
       "        vertical-align: top;\n",
       "    }\n",
       "\n",
       "    .dataframe thead th {\n",
       "        text-align: right;\n",
       "    }\n",
       "</style>\n",
       "<table border=\"1\" class=\"dataframe\">\n",
       "  <thead>\n",
       "    <tr style=\"text-align: right;\">\n",
       "      <th></th>\n",
       "      <th>Idx</th>\n",
       "      <th>Recipe</th>\n",
       "      <th>Ingredients</th>\n",
       "      <th>Idx2</th>\n",
       "      <th>Recipe2</th>\n",
       "      <th>Ingredients2</th>\n",
       "      <th>Similarity</th>\n",
       "    </tr>\n",
       "  </thead>\n",
       "  <tbody>\n",
       "    <tr>\n",
       "      <th>0</th>\n",
       "      <td>0</td>\n",
       "      <td>Ecuadorean Quinoa and Vegetable Soup</td>\n",
       "      <td>coriander,cumin,green bell pepper,lemon juice,...</td>\n",
       "      <td>1</td>\n",
       "      <td>Authentic Injera (aka Ethiopian Flat Bread)</td>\n",
       "      <td>salt,teff,water</td>\n",
       "      <td>0.125000</td>\n",
       "    </tr>\n",
       "    <tr>\n",
       "      <th>1</th>\n",
       "      <td>0</td>\n",
       "      <td>Ecuadorean Quinoa and Vegetable Soup</td>\n",
       "      <td>coriander,cumin,green bell pepper,lemon juice,...</td>\n",
       "      <td>2</td>\n",
       "      <td>Healthy Vegan Coleslaw</td>\n",
       "      <td>apple cider vinegar,cabbage,mustard,pepper,sal...</td>\n",
       "      <td>0.100000</td>\n",
       "    </tr>\n",
       "    <tr>\n",
       "      <th>2</th>\n",
       "      <td>0</td>\n",
       "      <td>Ecuadorean Quinoa and Vegetable Soup</td>\n",
       "      <td>coriander,cumin,green bell pepper,lemon juice,...</td>\n",
       "      <td>3</td>\n",
       "      <td>Grilled Flatbread</td>\n",
       "      <td>active yeast,flour,olive oil,salt</td>\n",
       "      <td>0.117647</td>\n",
       "    </tr>\n",
       "    <tr>\n",
       "      <th>3</th>\n",
       "      <td>0</td>\n",
       "      <td>Ecuadorean Quinoa and Vegetable Soup</td>\n",
       "      <td>coriander,cumin,green bell pepper,lemon juice,...</td>\n",
       "      <td>4</td>\n",
       "      <td>Baked Margarita Pie</td>\n",
       "      <td>cracker,milk</td>\n",
       "      <td>0.000000</td>\n",
       "    </tr>\n",
       "    <tr>\n",
       "      <th>4</th>\n",
       "      <td>0</td>\n",
       "      <td>Ecuadorean Quinoa and Vegetable Soup</td>\n",
       "      <td>coriander,cumin,green bell pepper,lemon juice,...</td>\n",
       "      <td>5</td>\n",
       "      <td>Lemon Tahini Dressing</td>\n",
       "      <td>garlic clove,lemon juice,soy sauce,tahini,water</td>\n",
       "      <td>0.111111</td>\n",
       "    </tr>\n",
       "  </tbody>\n",
       "</table>\n",
       "</div>"
      ],
      "text/plain": [
       "   Idx                                Recipe  \\\n",
       "0    0  Ecuadorean Quinoa and Vegetable Soup   \n",
       "1    0  Ecuadorean Quinoa and Vegetable Soup   \n",
       "2    0  Ecuadorean Quinoa and Vegetable Soup   \n",
       "3    0  Ecuadorean Quinoa and Vegetable Soup   \n",
       "4    0  Ecuadorean Quinoa and Vegetable Soup   \n",
       "\n",
       "                                         Ingredients  Idx2  \\\n",
       "0  coriander,cumin,green bell pepper,lemon juice,...     1   \n",
       "1  coriander,cumin,green bell pepper,lemon juice,...     2   \n",
       "2  coriander,cumin,green bell pepper,lemon juice,...     3   \n",
       "3  coriander,cumin,green bell pepper,lemon juice,...     4   \n",
       "4  coriander,cumin,green bell pepper,lemon juice,...     5   \n",
       "\n",
       "                                       Recipe2  \\\n",
       "0  Authentic Injera (aka Ethiopian Flat Bread)   \n",
       "1                       Healthy Vegan Coleslaw   \n",
       "2                            Grilled Flatbread   \n",
       "3                          Baked Margarita Pie   \n",
       "4                        Lemon Tahini Dressing   \n",
       "\n",
       "                                        Ingredients2  Similarity  \n",
       "0                                    salt,teff,water    0.125000  \n",
       "1  apple cider vinegar,cabbage,mustard,pepper,sal...    0.100000  \n",
       "2                  active yeast,flour,olive oil,salt    0.117647  \n",
       "3                                       cracker,milk    0.000000  \n",
       "4    garlic clove,lemon juice,soy sauce,tahini,water    0.111111  "
      ]
     },
     "execution_count": 177,
     "metadata": {},
     "output_type": "execute_result"
    }
   ],
   "source": [
    "# Add jaccard similarity column\n",
    "recipes_joined['Similarity'] = recipes_joined.apply(lambda row: jaccard_sim(row['Ingredients'], \\\n",
    "                                                                           row['Ingredients2']), axis=1)\n",
    "\n",
    "recipes_joined.head()"
   ]
  },
  {
   "cell_type": "markdown",
   "metadata": {},
   "source": [
    "Another distance measure :"
   ]
  },
  {
   "cell_type": "code",
   "execution_count": 178,
   "metadata": {},
   "outputs": [],
   "source": [
    "recipe_data['Ingredients'] = recipe_data['Ingredients'].apply(lambda i: i.split(','))"
   ]
  },
  {
   "cell_type": "code",
   "execution_count": 179,
   "metadata": {},
   "outputs": [],
   "source": [
    "ingr_to_weight = {}\n",
    "\n",
    "for k,v in recipe_data.explode('Ingredients')['Ingredients'].value_counts().items():\n",
    "    ingr_to_weight[k] = 1/v"
   ]
  },
  {
   "cell_type": "code",
   "execution_count": 180,
   "metadata": {},
   "outputs": [],
   "source": [
    "def weighted_sim(list_1, list_2):\n",
    "    list_1 = list_1.split(',')\n",
    "    list_2 = list_2.split(',')\n",
    "    \n",
    "    s_1 = set(list_1)\n",
    "    s_2 = set(list_2)\n",
    "    \n",
    "    intersection = s_1.intersection(s_2)\n",
    "    union = s_1.union(s_2)\n",
    "    \n",
    "    if len(s_1.union(s_2)) == 0:\n",
    "        return 0\n",
    "    \n",
    "    intersection_sum = 0\n",
    "    for i in intersection:\n",
    "        intersection_sum += ingr_to_weight[i]\n",
    "    \n",
    "    union_sum = 0\n",
    "    for i in union:\n",
    "        union_sum += ingr_to_weight[i]\n",
    "    \n",
    "    return intersection_sum/union_sum"
   ]
  },
  {
   "cell_type": "code",
   "execution_count": 181,
   "metadata": {},
   "outputs": [
    {
     "data": {
      "text/html": [
       "<div>\n",
       "<style scoped>\n",
       "    .dataframe tbody tr th:only-of-type {\n",
       "        vertical-align: middle;\n",
       "    }\n",
       "\n",
       "    .dataframe tbody tr th {\n",
       "        vertical-align: top;\n",
       "    }\n",
       "\n",
       "    .dataframe thead th {\n",
       "        text-align: right;\n",
       "    }\n",
       "</style>\n",
       "<table border=\"1\" class=\"dataframe\">\n",
       "  <thead>\n",
       "    <tr style=\"text-align: right;\">\n",
       "      <th></th>\n",
       "      <th>Idx</th>\n",
       "      <th>Recipe</th>\n",
       "      <th>Ingredients</th>\n",
       "      <th>Idx2</th>\n",
       "      <th>Recipe2</th>\n",
       "      <th>Ingredients2</th>\n",
       "      <th>Similarity</th>\n",
       "      <th>Weighted Similarity</th>\n",
       "    </tr>\n",
       "  </thead>\n",
       "  <tbody>\n",
       "    <tr>\n",
       "      <th>0</th>\n",
       "      <td>0</td>\n",
       "      <td>Ecuadorean Quinoa and Vegetable Soup</td>\n",
       "      <td>coriander,cumin,green bell pepper,lemon juice,...</td>\n",
       "      <td>1</td>\n",
       "      <td>Authentic Injera (aka Ethiopian Flat Bread)</td>\n",
       "      <td>salt,teff,water</td>\n",
       "      <td>0.125000</td>\n",
       "      <td>0.001252</td>\n",
       "    </tr>\n",
       "    <tr>\n",
       "      <th>1</th>\n",
       "      <td>0</td>\n",
       "      <td>Ecuadorean Quinoa and Vegetable Soup</td>\n",
       "      <td>coriander,cumin,green bell pepper,lemon juice,...</td>\n",
       "      <td>2</td>\n",
       "      <td>Healthy Vegan Coleslaw</td>\n",
       "      <td>apple cider vinegar,cabbage,mustard,pepper,sal...</td>\n",
       "      <td>0.100000</td>\n",
       "      <td>0.002624</td>\n",
       "    </tr>\n",
       "    <tr>\n",
       "      <th>2</th>\n",
       "      <td>0</td>\n",
       "      <td>Ecuadorean Quinoa and Vegetable Soup</td>\n",
       "      <td>coriander,cumin,green bell pepper,lemon juice,...</td>\n",
       "      <td>3</td>\n",
       "      <td>Grilled Flatbread</td>\n",
       "      <td>active yeast,flour,olive oil,salt</td>\n",
       "      <td>0.117647</td>\n",
       "      <td>0.002593</td>\n",
       "    </tr>\n",
       "    <tr>\n",
       "      <th>3</th>\n",
       "      <td>0</td>\n",
       "      <td>Ecuadorean Quinoa and Vegetable Soup</td>\n",
       "      <td>coriander,cumin,green bell pepper,lemon juice,...</td>\n",
       "      <td>4</td>\n",
       "      <td>Baked Margarita Pie</td>\n",
       "      <td>cracker,milk</td>\n",
       "      <td>0.000000</td>\n",
       "      <td>0.000000</td>\n",
       "    </tr>\n",
       "    <tr>\n",
       "      <th>4</th>\n",
       "      <td>0</td>\n",
       "      <td>Ecuadorean Quinoa and Vegetable Soup</td>\n",
       "      <td>coriander,cumin,green bell pepper,lemon juice,...</td>\n",
       "      <td>5</td>\n",
       "      <td>Lemon Tahini Dressing</td>\n",
       "      <td>garlic clove,lemon juice,soy sauce,tahini,water</td>\n",
       "      <td>0.111111</td>\n",
       "      <td>0.004098</td>\n",
       "    </tr>\n",
       "  </tbody>\n",
       "</table>\n",
       "</div>"
      ],
      "text/plain": [
       "   Idx                                Recipe  \\\n",
       "0    0  Ecuadorean Quinoa and Vegetable Soup   \n",
       "1    0  Ecuadorean Quinoa and Vegetable Soup   \n",
       "2    0  Ecuadorean Quinoa and Vegetable Soup   \n",
       "3    0  Ecuadorean Quinoa and Vegetable Soup   \n",
       "4    0  Ecuadorean Quinoa and Vegetable Soup   \n",
       "\n",
       "                                         Ingredients  Idx2  \\\n",
       "0  coriander,cumin,green bell pepper,lemon juice,...     1   \n",
       "1  coriander,cumin,green bell pepper,lemon juice,...     2   \n",
       "2  coriander,cumin,green bell pepper,lemon juice,...     3   \n",
       "3  coriander,cumin,green bell pepper,lemon juice,...     4   \n",
       "4  coriander,cumin,green bell pepper,lemon juice,...     5   \n",
       "\n",
       "                                       Recipe2  \\\n",
       "0  Authentic Injera (aka Ethiopian Flat Bread)   \n",
       "1                       Healthy Vegan Coleslaw   \n",
       "2                            Grilled Flatbread   \n",
       "3                          Baked Margarita Pie   \n",
       "4                        Lemon Tahini Dressing   \n",
       "\n",
       "                                        Ingredients2  Similarity  \\\n",
       "0                                    salt,teff,water    0.125000   \n",
       "1  apple cider vinegar,cabbage,mustard,pepper,sal...    0.100000   \n",
       "2                  active yeast,flour,olive oil,salt    0.117647   \n",
       "3                                       cracker,milk    0.000000   \n",
       "4    garlic clove,lemon juice,soy sauce,tahini,water    0.111111   \n",
       "\n",
       "   Weighted Similarity  \n",
       "0             0.001252  \n",
       "1             0.002624  \n",
       "2             0.002593  \n",
       "3             0.000000  \n",
       "4             0.004098  "
      ]
     },
     "execution_count": 181,
     "metadata": {},
     "output_type": "execute_result"
    }
   ],
   "source": [
    "# Add another distance column\n",
    "recipes_joined['Weighted Similarity'] = recipes_joined.apply(lambda row: weighted_sim(row['Ingredients'], \\\n",
    "                                                                       row['Ingredients2']), axis=1)\n",
    "\n",
    "recipes_joined.head()"
   ]
  },
  {
   "cell_type": "code",
   "execution_count": 182,
   "metadata": {},
   "outputs": [],
   "source": [
    "recipe_data['Ingredients'] = recipe_data['Ingredients'].apply(lambda i: ','.join(i))"
   ]
  },
  {
   "cell_type": "markdown",
   "metadata": {},
   "source": [
    "<a id=\"graph\"></a>\n",
    "## Build Graph\n",
    "\n",
    "[Table of Contents](#up)"
   ]
  },
  {
   "cell_type": "code",
   "execution_count": 183,
   "metadata": {},
   "outputs": [],
   "source": [
    "import networkx as nx\n",
    "\n",
    "recipes_G = nx.Graph()\n",
    "\n",
    "# Add nodes\n",
    "recipes_G.add_nodes_from(list(recipe_data['Idx'].keys()))"
   ]
  },
  {
   "cell_type": "code",
   "execution_count": 184,
   "metadata": {},
   "outputs": [],
   "source": [
    "def get_recipe_from_idx(idx):\n",
    "    return recipe_data.loc[recipe_data['Idx'] == idx]\n",
    "\n",
    "def get_recipe_name_from_idx(idx):\n",
    "    return get_recipe_from_idx(idx)['Recipe'].values[0]\n",
    "\n",
    "def get_ingredients_from_idx(idx):\n",
    "    return get_recipe_from_idx(idx)['Ingredients'].values[0]"
   ]
  },
  {
   "cell_type": "code",
   "execution_count": 185,
   "metadata": {},
   "outputs": [],
   "source": [
    "#nx.set_node_attributes(recipes_G, idx_to_recipe, 'recipe')\n",
    "#nx.set_node_attributes(recipes_G, idx_to_ingredients, 'ingredients')"
   ]
  },
  {
   "cell_type": "code",
   "execution_count": 186,
   "metadata": {},
   "outputs": [],
   "source": [
    "# Add edges to recipe graph\n",
    "edge_list = []\n",
    "threshold = 0.1\n",
    "\n",
    "for _,row in recipes_joined.iterrows():\n",
    "    sim = row['Weighted Similarity']\n",
    "    \n",
    "    if sim > threshold:\n",
    "        edge_list.append((row['Idx'], row['Idx2'], sim))\n",
    "    \n",
    "recipes_G.add_weighted_edges_from(edge_list)"
   ]
  },
  {
   "cell_type": "code",
   "execution_count": 187,
   "metadata": {},
   "outputs": [
    {
     "data": {
      "text/plain": [
       "(28136, 1994)"
      ]
     },
     "execution_count": 187,
     "metadata": {},
     "output_type": "execute_result"
    }
   ],
   "source": [
    "recipes_G.number_of_edges(), recipes_G.number_of_nodes()"
   ]
  },
  {
   "cell_type": "code",
   "execution_count": 188,
   "metadata": {},
   "outputs": [],
   "source": [
    "# Save Graph\n",
    "nx.write_gpickle(recipes_G,\"graph_files/recipes_G.gpickle\")"
   ]
  },
  {
   "cell_type": "markdown",
   "metadata": {},
   "source": [
    "- gérer mêmes noms de recettes pour recettes avec mêmes ingrédients ou avec ingrédients différents\n",
    "- faire en pandasql recipes_joined\n",
    "- ajouter la liste des ingrédients comme attribut d'un noeud\n",
    "- clustering du graph\n",
    "- déterminer une liste d'ingrédients type de chaque cluster\n",
    "    - pour ca : dictionnaire ingredient->nb_occurrences pour chaque cluster"
   ]
  },
  {
   "cell_type": "markdown",
   "metadata": {},
   "source": [
    "<a id=\"exploration\"></a>\n",
    "## Exploration\n",
    "\n",
    "[Table of Contents](#up)"
   ]
  },
  {
   "cell_type": "code",
   "execution_count": 189,
   "metadata": {},
   "outputs": [],
   "source": [
    "recipes_G = nx.read_gpickle(\"graph_files/recipes_G.gpickle\")"
   ]
  },
  {
   "cell_type": "markdown",
   "metadata": {},
   "source": [
    "Here, we load the weighted adjacency matrix computed before : the nodes are the recipes"
   ]
  },
  {
   "cell_type": "code",
   "execution_count": 190,
   "metadata": {},
   "outputs": [],
   "source": [
    "adj = nx.adjacency_matrix(recipes_G)"
   ]
  },
  {
   "cell_type": "code",
   "execution_count": 191,
   "metadata": {},
   "outputs": [],
   "source": [
    "from networkx.algorithms.cluster import average_clustering\n",
    "n_nodes = recipes_G.number_of_nodes()\n",
    "n_edges = recipes_G.number_of_edges()\n",
    "clust_coeff=average_clustering(recipes_G)"
   ]
  },
  {
   "cell_type": "code",
   "execution_count": 192,
   "metadata": {},
   "outputs": [
    {
     "name": "stdout",
     "output_type": "stream",
     "text": [
      "Graph properties :\n",
      " Nodes : 28136\n",
      " Edges : 1994\n",
      " Average clustering coefficient 0.40\n",
      " Diameter : infinity (there is some isolated nodes)\n"
     ]
    }
   ],
   "source": [
    "print('Graph properties :\\n Nodes : {}\\n Edges : {}\\n Average clustering coefficient {:0.2f}\\n Diameter : infinity (there is some isolated nodes)'.format(n_edges, n_nodes, clust_coeff))"
   ]
  },
  {
   "cell_type": "code",
   "execution_count": 193,
   "metadata": {},
   "outputs": [
    {
     "data": {
      "image/png": "[encoded data removed]",
      "text/plain": [
       "<Figure size 432x288 with 1 Axes>"
      ]
     },
     "metadata": {
      "needs_background": "light"
     },
     "output_type": "display_data"
    },
    {
     "name": "stdout",
     "output_type": "stream",
     "text": [
      "Average degree <k> : 28 \n"
     ]
    }
   ],
   "source": [
    "#Visualization code inspired from https://networkx.github.io/documentation/stable/auto_examples/drawing/plot_degree_histogram.html\n",
    "import networkx as nx\n",
    "import collections\n",
    "import matplotlib.pyplot as plt\n",
    "\n",
    "degree_sequence = sorted([d for n, d in recipes_G.degree()], reverse=True)  # degree sequence\n",
    "degreeCount = collections.Counter(degree_sequence)\n",
    "deg, cnt = zip(*degreeCount.items())\n",
    "fig, ax = plt.subplots()\n",
    "plt.bar(deg, cnt, width=0.80, color='b')\n",
    "plt.title(\"Degree Histogram\")\n",
    "plt.ylabel(\"Count\")\n",
    "plt.xlabel(\"Degree k\")\n",
    "plt.show()\n",
    "k_averaged=0\n",
    "for n, d in recipes_G.degree():\n",
    "    k_averaged+=d\n",
    "k_averaged=k_averaged/n_nodes\n",
    "print('Average degree <k> : {:0.0f} '.format(k_averaged))"
   ]
  },
  {
   "cell_type": "markdown",
   "metadata": {},
   "source": [
    "From the information computed above we can see that this is a scale-free graph : it has a lot of small-degree nodes and only a few hubs"
   ]
  },
  {
   "cell_type": "markdown",
   "metadata": {},
   "source": [
    "### Spectral analysis"
   ]
  },
  {
   "cell_type": "code",
   "execution_count": 194,
   "metadata": {},
   "outputs": [],
   "source": [
    "from scipy.sparse.csgraph import laplacian\n",
    "from scipy.sparse.linalg import eigs\n",
    "\n",
    "#Compute normalized Laplacian (for sparse matrix)\n",
    "laplacian_norm = laplacian(adj, normed=True, return_diag=False, use_out_degree=False)\n",
    "\n",
    "#Compute eigenvectors and eigenvalues of the Laplacian (for sparse matrix)\n",
    "N=laplacian_norm.shape[0]-1\n",
    "lamb_norm, U_norm = eigs(laplacian_norm,k=N-1)"
   ]
  },
  {
   "cell_type": "code",
   "execution_count": 195,
   "metadata": {},
   "outputs": [],
   "source": [
    "#As the output is in complex format, we have to convert it (but the imaginary part is zero)\n",
    "lamb_norm=np.real(lamb_norm)\n",
    "U_norm=np.real(U_norm)\n",
    "\n",
    "#We sort the eigenvalues and their corresponding eigenvectors by ascending order\n",
    "idx=np.argsort(lamb_norm)\n",
    "lamb_norm=lamb_norm[idx]\n",
    "\n",
    "#And we compute the number of connected components\n",
    "n_CC = np.count_nonzero(lamb_norm <= 1e-12)"
   ]
  },
  {
   "cell_type": "code",
   "execution_count": 196,
   "metadata": {},
   "outputs": [
    {
     "name": "stdout",
     "output_type": "stream",
     "text": [
      "Number of connected coponents : 223\n"
     ]
    },
    {
     "data": {
      "image/png": "[encoded data removed]",
      "text/plain": [
       "<Figure size 864x360 with 1 Axes>"
      ]
     },
     "metadata": {
      "needs_background": "light"
     },
     "output_type": "display_data"
    }
   ],
   "source": [
    "print(\"Number of connected coponents :\",n_CC)\n",
    "plt.figure(figsize=(12,5))\n",
    "plt.plot(lamb_norm)\n",
    "plt.xlabel('Index')\n",
    "plt.ylabel('Eigenvalue')\n",
    "plt.title('Eigenvalues $L_{norm}$')\n",
    "plt.show()"
   ]
  },
  {
   "cell_type": "markdown",
   "metadata": {},
   "source": [
    "### Dimensionality reduction"
   ]
  },
  {
   "cell_type": "code",
   "execution_count": 197,
   "metadata": {},
   "outputs": [],
   "source": [
    "#Taken from assignment 2 solution\n",
    "def laplacian_eigenmaps(n_CC, U, dim):\n",
    "    \"\"\" Return:\n",
    "        coords (n x dim array): new coordinates for the data points.\"\"\"\n",
    "    # number of connected components = number of zero eigenvalues, \n",
    "    # zero eigenvalues are associated with constant vectors \n",
    "    # only take columns associated with non-zero eigenvalues\n",
    "    cols_to_take = range(n_CC, n_CC + dim + 1)\n",
    "    coords = U[:, cols_to_take]\n",
    "    #Normalize\n",
    "    coords = coords / np.linalg.norm(coords, axis=1)[:, None]\n",
    "    return coords"
   ]
  },
  {
   "cell_type": "markdown",
   "metadata": {},
   "source": [
    "We choose to keep the n_classes(choice) eigenvectors corresponding to the first non-trivial eigenvalues :"
   ]
  },
  {
   "cell_type": "code",
   "execution_count": 198,
   "metadata": {},
   "outputs": [],
   "source": [
    "n_classes=5\n",
    "U_first_non_triv_col=laplacian_eigenmaps(n_CC, U=U_norm, dim=n_classes)"
   ]
  },
  {
   "cell_type": "markdown",
   "metadata": {},
   "source": [
    "### Spectral clustering"
   ]
  },
  {
   "cell_type": "markdown",
   "metadata": {},
   "source": [
    "Now that we have a reduced eigenspace, we can apply spectral clustering on it :"
   ]
  },
  {
   "cell_type": "code",
   "execution_count": 199,
   "metadata": {},
   "outputs": [],
   "source": [
    "from sklearn.cluster import KMeans\n",
    "y_pred = KMeans(n_classes).fit_predict(U_first_non_triv_col)"
   ]
  },
  {
   "cell_type": "code",
   "execution_count": 200,
   "metadata": {},
   "outputs": [
    {
     "name": "stdout",
     "output_type": "stream",
     "text": [
      "Cluster 0 has 725 recipes\n",
      "{'salt': 274, 'sugar': 190, 'butter': 177, 'onion': 167, 'flour': 144, 'egg': 131, 'water': 125, 'olive oil': 93, 'garlic clove': 86, 'vanilla': 83, 'milk': 80}\n",
      "Cluster 1 has 703 recipes\n",
      "{'salt': 282, 'sugar': 230, 'butter': 185, 'flour': 154, 'egg': 143, 'water': 126, 'onion': 121, 'milk': 113, 'vanilla': 99, 'olive oil': 85, 'baking powder': 67}\n",
      "Cluster 2 has 209 recipes\n",
      "{'salt': 75, 'sugar': 71, 'butter': 53, 'flour': 46, 'water': 45, 'egg': 42, 'onion': 33, 'vanilla': 26, 'garlic clove': 24, 'olive oil': 21, 'pepper': 20}\n",
      "Cluster 3 has 192 recipes\n",
      "{'salt': 76, 'sugar': 51, 'butter': 43, 'egg': 32, 'flour': 27, 'onion': 27, 'water': 22, 'milk': 22, 'vanilla': 20, 'garlic clove': 17, 'baking powder': 16}\n",
      "Cluster 4 has 165 recipes\n",
      "{'salt': 57, 'sugar': 38, 'butter': 34, 'water': 31, 'onion': 30, 'egg': 24, 'black pepper': 24, 'flour': 23, 'milk': 18, 'vanilla': 16, 'garlic clove': 16}\n"
     ]
    }
   ],
   "source": [
    "import itertools\n",
    "list_clusters=[]\n",
    "\n",
    "# Count occurence of ingredients within each cluster\n",
    "for c in range(n_classes):\n",
    "    nb_recipes=sum(y_pred == c)\n",
    "    all_ingr={}\n",
    "    for i, l in enumerate(y_pred==c):\n",
    "        if l and i<1800:\n",
    "            name = get_recipe_name_from_idx(i)\n",
    "            ingredients = get_ingredients_from_idx(i).split(',')\n",
    "            if len(ingredients) > 2:\n",
    "                for ingr in ingredients:\n",
    "                    if ingr not in all_ingr.keys():\n",
    "                        all_ingr[ingr] = 1\n",
    "                    else:\n",
    "                        all_ingr[ingr] += 1\n",
    "                    \n",
    "    #Sort ingredients of cluster by occurence                    \n",
    "    all_ingr_sorted={k: v for k, v in sorted(all_ingr.items(), reverse=True, key=lambda item: item[1])}\n",
    "    \n",
    "    #add number of recipes in dict to sort cluster by size\n",
    "    all_ingr_sorted.update({'total': nb_recipes})\n",
    "    list_clusters.append(all_ingr_sorted.copy()) \n",
    "    \n",
    "list_clusters=sorted(list_clusters, key = lambda i: i['total'],reverse=True)\n",
    "\n",
    "#Print most frequent ingredient within each cluster\n",
    "for c in range(len(list_clusters)):\n",
    "    print('Cluster {} has {} recipes'.format(c, list_clusters[c]['total']))\n",
    "    del list_clusters[c]['total']\n",
    "    #print only first ingredients\n",
    "    N=11\n",
    "    out = dict(list(list_clusters[c].items())[0: N])  \n",
    "    print(out)\n",
    " "
   ]
  },
  {
   "cell_type": "code",
   "execution_count": 201,
   "metadata": {},
   "outputs": [
    {
     "name": "stdout",
     "output_type": "stream",
     "text": [
      "Cluster 0 typical recipe :\n",
      "['sugar', 'butter', 'onion', 'flour', 'egg', 'water', 'olive oil', 'garlic clove', 'vanilla', 'milk', 'black pepper', 'pepper', 'garlic', 'tomatoes', 'cinnamon', 'parsley', 'potatoes', 'baking soda', 'margarine']\n",
      "\n",
      "\n",
      "Cluster 1 typical recipe :\n",
      "['sugar', 'butter', 'flour', 'egg', 'water', 'onion', 'milk', 'vanilla', 'olive oil', 'baking powder', 'pepper', 'garlic clove', 'black pepper', 'lemon juice', 'cinnamon', 'baking soda', 'garlic', 'parsley', 'garlic powder']\n",
      "\n",
      "\n",
      "Cluster 2 typical recipe :\n",
      "['sugar', 'butter', 'flour', 'water', 'egg', 'onion', 'vanilla', 'garlic clove', 'olive oil', 'pepper', 'milk', 'baking soda', 'lemon juice', 'baking powder', 'black pepper', 'parsley', 'cornstarch', 'cinnamon', 'cream cheese']\n",
      "\n",
      "\n",
      "Cluster 3 typical recipe :\n",
      "['sugar', 'butter', 'egg', 'flour', 'onion', 'water', 'milk', 'vanilla', 'garlic clove', 'baking powder', 'black pepper', 'cinnamon', 'pepper', 'olive oil', 'baking soda', 'parsley', 'sour cream', 'cheddar cheese', 'oregano']\n",
      "\n",
      "\n",
      "Cluster 4 typical recipe :\n",
      "['sugar', 'butter', 'water', 'onion', 'egg', 'black pepper', 'flour', 'milk', 'vanilla', 'garlic clove', 'olive oil', 'lemon juice', 'cinnamon', 'pepper', 'parsley', 'garlic', 'garlic powder', 'carrot', 'cheddar cheese']\n",
      "\n",
      "\n"
     ]
    }
   ],
   "source": [
    "#Save 'typical recipe' of each cluster\n",
    "#This will give an extract from the most frequent ingredients starting at ingredient number 'ingr_start' and stopping at 'ingr_stop'\n",
    "typical_recipe_clusters=[]\n",
    "ingr_start=1\n",
    "ingr_stop=20\n",
    "for c in range(len(list_clusters)):\n",
    "    print('Cluster {} typical recipe :'.format(c))\n",
    "    typical_recipe=list(dict(list(list_clusters[c].items())[ingr_start: ingr_stop]).keys())\n",
    "    print(typical_recipe)\n",
    "    print('\\n')\n",
    "    typical_recipe_clusters.append(typical_recipe)"
   ]
  },
  {
   "cell_type": "markdown",
   "metadata": {},
   "source": [
    "<a id=\"user\"></a>\n",
    "## User interface\n",
    "\n",
    "[Table of Contents](#up)"
   ]
  },
  {
   "cell_type": "code",
   "execution_count": 254,
   "metadata": {},
   "outputs": [],
   "source": [
    "def jaccard_sim_list(list_1, list_2):\n",
    "    s_1 = set(list_1)\n",
    "    s_2 = set(list_2)\n",
    "    \n",
    "    if len(s_1.union(s_2)) == 0:\n",
    "        return 0\n",
    "    \n",
    "    return len(s_1.intersection(s_2)) / len(s_1.union(s_2))\n",
    "\n",
    "def jaccard_sim_df_list(list_1, list_2):\n",
    "    list_1 = list_1.split(',')\n",
    "    s_1 = set(list_1)\n",
    "    s_2 = set(list_2)\n",
    "    \n",
    "    if len(s_1.union(s_2)) == 0:\n",
    "        return 0\n",
    "    \n",
    "    return len(s_1.intersection(s_2)) / len(s_1.union(s_2))\n",
    "\n",
    "# extract the N most similar recipes\n",
    "def find_best_index(N, best_cluster_df):\n",
    "    sim = np.copy(best_cluster_df['Similarity'].values)\n",
    "    saveList = list(sim)\n",
    "    sim.sort()\n",
    "    #best_recipes_index = [saveList.index(sim[-i]) for i in np.arange(1, N + 1)]\n",
    "    best_score = sim[-N:]\n",
    "    best_recipes_index = []\n",
    "    for i in np.unique(best_score):\n",
    "        idx_to_add = np.array(np.where(saveList == i))[0]\n",
    "        best_recipes_index.extend(idx_to_add)\n",
    "\n",
    "    #we keep only the N best recipes\n",
    "    best_recipes_index = best_recipes_index[-N:]\n",
    "    return best_recipes_index\n",
    "\n",
    "# filter the forbidden recipes\n",
    "def checkForbiddenIngred(ingredList, Not_wanted_ingredient):\n",
    "    ingredList = ingredList.split(',')\n",
    "    result = True\n",
    "    if any([n in Not_wanted_ingredient for n in ingredList]):\n",
    "        result = False\n",
    "    return result\n",
    "\n",
    "def computeFinalList(allIngredList, Not_wanted_ingredient, N):\n",
    "    allowedIndex = []\n",
    "    for i in range(N):\n",
    "        if checkForbiddenIngred(allIngredList[i], Not_wanted_ingredient):\n",
    "            allowedIndex.append(i)\n",
    "\n",
    "\n",
    "    return allowedIndex\n"
   ]
  },
  {
   "cell_type": "code",
   "execution_count": 284,
   "metadata": {},
   "outputs": [],
   "source": [
    "def find_recipes(User_ingredients, Not_wanted_ingredient):\n",
    "    \n",
    "#     User_ingredients = ['salt', 'butter', 'onion', 'egg', 'flour']\n",
    "#     Not_wanted_ingredient = ['salt']\n",
    "    # Number of ingredients chosen by the user\n",
    "    num_ingred = len(User_ingredients)\n",
    "    # compute the best cluster\n",
    "    #Save 'typical recipe' of each cluster\n",
    "    #This will give an extract from the most frequent ingredients starting at ingredient number 'ingr_start' and stopping at 'ingr_stop'\n",
    "    typical_recipe_clusters=[]\n",
    "    ingr_start=14\n",
    "    ingr_stop=num_ingred + ingr_start\n",
    "    for c in range(len(list_clusters)):\n",
    "        #print('Cluster {} typical recipe :'.format(c))\n",
    "        typical_recipe=list(dict(list(list_clusters[c].items())[ingr_start: ingr_stop]).keys())\n",
    "        typical_recipe_clusters.append(typical_recipe)\n",
    "    \n",
    "    \n",
    "    cluster_candidate = typical_recipe_clusters.copy()\n",
    "    similarities = [jaccard_sim_list(User_ingredients, i) for i in cluster_candidate]\n",
    "    best_cluster = np.argmax(similarities)\n",
    "    #print(best_cluster)\n",
    "    #print(cluster_candidate[best_cluster])\n",
    "    \n",
    "    # compute the list of recipes in this best cluster\n",
    "    list_recipes = list_clusters[best_cluster]\n",
    "    idx = np.array(np.where(y_pred == best_cluster))[0] # convert from tupple to array\n",
    "    #print(idx)\n",
    "    best_cluster_df = recipe_data[np.array([True if n in idx else False for n in recipe_data['Idx']])]\n",
    "    # add similarity column\n",
    "    best_cluster_df['Similarity'] = best_cluster_df.apply(lambda row: jaccard_sim_df_list(row['Ingredients'], \\\n",
    "                                                                           User_ingredients), axis=1)\n",
    "\n",
    "    \n",
    "    N = 10\n",
    "    iterator = 0\n",
    "    boolTest = False\n",
    "    while not boolTest:\n",
    "        # put these best recipes in a dataframe\n",
    "        best_recipes_index = find_best_index(N, best_cluster_df)\n",
    "        best_recipes_df = best_cluster_df[np.array([True if i in best_recipes_index else False for i in range(best_cluster_df.shape[0])])]\n",
    "        #best_recipes_df.head(10)\n",
    "        allIngredList = best_recipes_df['Ingredients'].values\n",
    "        allowedIndex = computeFinalList(allIngredList, Not_wanted_ingredient, N)\n",
    "        iterator += 1\n",
    "        if len(allowedIndex) > 0 or iterator > 4:\n",
    "            boolTest = True\n",
    "        else:\n",
    "            N = 3*N\n",
    "\n",
    "    if(len(allowedIndex) > 0):\n",
    "        final_recipes = best_recipes_df[np.array([True if i in allowedIndex else False for i in range(best_recipes_df.shape[0])])]\n",
    "        return final_recipes, 1\n",
    "    else:\n",
    "        print('No recipes found')\n",
    "        return 0, 0\n",
    "    \n",
    "\n",
    "#final_recipes.head(10)"
   ]
  },
  {
   "cell_type": "code",
   "execution_count": 285,
   "metadata": {},
   "outputs": [
    {
     "ename": "TypeError",
     "evalue": "find_recipes() missing 2 required positional arguments: 'User_ingredients' and 'Not_wanted_ingredient'",
     "output_type": "error",
     "traceback": [
      "\u001b[1;31m---------------------------------------------------------------------------\u001b[0m",
      "\u001b[1;31mTypeError\u001b[0m                                 Traceback (most recent call last)",
      "\u001b[1;32m<ipython-input-285-75fbf9eefcbe>\u001b[0m in \u001b[0;36m<module>\u001b[1;34m\u001b[0m\n\u001b[1;32m----> 1\u001b[1;33m \u001b[0mtest\u001b[0m\u001b[1;33m,\u001b[0m \u001b[0mtypeOfData\u001b[0m \u001b[1;33m=\u001b[0m \u001b[0mfind_recipes\u001b[0m\u001b[1;33m(\u001b[0m\u001b[1;33m)\u001b[0m\u001b[1;33m\u001b[0m\u001b[1;33m\u001b[0m\u001b[0m\n\u001b[0m\u001b[0;32m      2\u001b[0m \u001b[0mprint\u001b[0m\u001b[1;33m(\u001b[0m\u001b[0mtest2\u001b[0m\u001b[1;33m)\u001b[0m\u001b[1;33m\u001b[0m\u001b[1;33m\u001b[0m\u001b[0m\n\u001b[0;32m      3\u001b[0m \u001b[1;33m\u001b[0m\u001b[0m\n\u001b[0;32m      4\u001b[0m \u001b[0mtest\u001b[0m\u001b[1;33m.\u001b[0m\u001b[0mhead\u001b[0m\u001b[1;33m(\u001b[0m\u001b[1;33m)\u001b[0m\u001b[1;33m\u001b[0m\u001b[1;33m\u001b[0m\u001b[0m\n",
      "\u001b[1;31mTypeError\u001b[0m: find_recipes() missing 2 required positional arguments: 'User_ingredients' and 'Not_wanted_ingredient'"
     ]
    }
   ],
   "source": [
    "test, typeOfData = find_recipes()\n",
    "print(test2)\n",
    "\n",
    "test.head()\n"
   ]
  },
  {
   "cell_type": "code",
   "execution_count": null,
   "metadata": {},
   "outputs": [],
   "source": [
    "import ipywidgets as widgets\n",
    "from IPython.display import clear_output"
   ]
  },
  {
   "cell_type": "code",
   "execution_count": 286,
   "metadata": {},
   "outputs": [],
   "source": [
    "list_ingredients = []\n",
    "\n",
    "for elem in list(set(recipe_data['Ingredients'])):\n",
    "    ingredients_intermediaire = elem.split(\",\")\n",
    "    for i in range(len(ingredients_intermediaire)):\n",
    "        list_ingredients.append(ingredients_intermediaire[i])\n",
    "        list_ingredients = sorted(list(set(list_ingredients)))    "
   ]
  },
  {
   "cell_type": "code",
   "execution_count": 287,
   "metadata": {},
   "outputs": [],
   "source": [
    "User_ingredients = []\n",
    "\n",
    "def on_button_add_clicked(b):\n",
    "    with output:\n",
    "        User_ingredients.append(add_ingredient.value)\n",
    "        print('%s added in ingredients' %add_ingredient.value)        \n",
    "        \n",
    "def on_button_remove_clicked(b):\n",
    "    with output:\n",
    "        if remove_ingredient.value in User_ingredients:\n",
    "            User_ingredients.remove(remove_ingredient.value)\n",
    "            print('%s removed from ingredients' %remove_ingredient.value)\n",
    "\n",
    "\n",
    "add_ingredient=widgets.Combobox(\n",
    "    placeholder='Add ingredient',\n",
    "    options=list_ingredients,\n",
    "    description='Add:',\n",
    "    ensure_option=True,\n",
    "    disabled=False,\n",
    "    style =  {'description_width': 'initial', 'placeholder_width':'2cm'}\n",
    ")\n",
    "remove_ingredient = widgets.Combobox(\n",
    "    placeholder='Add ingredient',\n",
    "    options=list_ingredients,\n",
    "    description='Remove:',\n",
    "    ensure_option=True,\n",
    "    disabled=False,\n",
    "    style =  {'description_width': 'initial', 'placeholder_width':'2cm'}\n",
    ")\n",
    "button_add = widgets.Button(description=\"Add ingredient\")\n",
    "button_remove = widgets.Button(description=\"Remove ingredient\")\n",
    "\n",
    "#display(add_ingredient, button_add, remove_ingredient,button_remove,button_finish,output)\n",
    "\n",
    "button_add.on_click(on_button_add_clicked)\n",
    "button_remove.on_click(on_button_remove_clicked)"
   ]
  },
  {
   "cell_type": "code",
   "execution_count": 288,
   "metadata": {},
   "outputs": [],
   "source": [
    "Not_wanted_ingredient = []\n",
    "\n",
    "\n",
    "def on_button_add_unwanted_clicked(b):\n",
    "    with output:\n",
    "        Not_wanted_ingredient.append(add_unwanted_ingredient.value)\n",
    "        print('%s added in unwanted ingredients' %add_ingredient.value)        \n",
    "        \n",
    "def on_button_remove_unwanted_clicked(b):\n",
    "    with output:\n",
    "        if remove_ingredient.value in User_ingredients:\n",
    "            Not_wanted_ingredient.remove(remove_unwanted_ingredient.value)\n",
    "            print('%s removed from unwanted ingredients' %remove_ingredient.value)\n",
    "\n",
    "\n",
    "add_unwanted_ingredient=widgets.Combobox(\n",
    "    placeholder=\"Add ingredient\",\n",
    "    options=list_ingredients,\n",
    "    description=\"Add:\",\n",
    "    ensure_option=True,\n",
    "    disabled=False,\n",
    "    style =  {'description_width': 'initial', 'placeholder_width':'2cm'}\n",
    ")\n",
    "remove_unwanted_ingredient = widgets.Combobox(\n",
    "    placeholder='Add ingredient',\n",
    "    options=list_ingredients,\n",
    "    description='Remove:',\n",
    "    ensure_option=True,\n",
    "    disabled=False,\n",
    "    style =  {'description_width': 'initial', 'placeholder_width':'2cm'}\n",
    ")\n",
    "button_add_unwanted = widgets.Button(description=\"Add ingredient\")\n",
    "button_remove_unwanted = widgets.Button(description=\"Remove ingredient\")\n",
    "\n",
    "#display(add_ingredient, button_add, remove_ingredient,button_remove,button_finish,output)\n",
    "\n",
    "button_add_unwanted.on_click(on_button_add_unwanted_clicked)\n",
    "button_remove_unwanted.on_click(on_button_remove_unwanted_clicked)"
   ]
  },
  {
   "cell_type": "code",
   "execution_count": 303,
   "metadata": {},
   "outputs": [],
   "source": [
    "import warnings\n",
    "def on_button_finish_clicked(b):\n",
    "    with output:\n",
    "        \n",
    "        final_recipes, dataType = find_recipes(User_ingredients, Not_wanted_ingredient)\n",
    "        if(dataType == 1):\n",
    "            warnings.filterwarnings(\"ignore\")\n",
    "            display(final_recipes.head(10))\n",
    "        else:\n",
    "            print('No recipes found')\n",
    "        #print(User_ingredients)\n",
    "        #print(Not_wanted_ingredient)\n",
    "def on_button_clear_clicked(b):\n",
    "    with output:\n",
    "        del User_ingredients[:]\n",
    "        del Not_wanted_ingredient[:]\n",
    "        clear_output()\n",
    "\n",
    "button_finish = widgets.Button(description=\"Find my recipe\")\n",
    "button_clear = widgets.Button(description=\"clear\")\n",
    "output = widgets.Output(layout={'border': '1px solid black','width':'90%','align_self' : 'center'})\n",
    "\n",
    "button_finish.on_click(on_button_finish_clicked)\n",
    "button_clear.on_click(on_button_clear_clicked)"
   ]
  },
  {
   "cell_type": "code",
   "execution_count": 304,
   "metadata": {},
   "outputs": [],
   "source": [
    "box_layout = widgets.Layout(width = '100%', align_items = 'stretch', align_self = 'stretch')\n",
    "u1 = widgets.HBox([add_ingredient,button_add,remove_ingredient,button_remove])\n",
    "u2 = widgets.HBox([add_unwanted_ingredient,button_add_unwanted,remove_unwanted_ingredient,button_remove_unwanted])\n",
    "u3 = widgets.HBox( [button_finish, button_clear], layout = {'align_self':'center'})\n",
    "\n",
    "ui1 = widgets.VBox([widgets.Label(value='Add ingredients you have:',layout = {'align_self' : 'stretch' }),u1], layout = box_layout)\n",
    "ui2 = widgets.VBox([widgets.Label(value=\"Add ingredients you don't want in your recipe :\",layout = {'align_self' : 'stretch' }),u2], layout = box_layout)\n",
    "\n",
    "\n",
    "#ui = widgets.VBox([u1,u2,u3,u4,u5], layout = box_layout)\n",
    "ui = widgets.VBox([ui1, ui2, u3], layout = box_layout)"
   ]
  },
  {
   "cell_type": "code",
   "execution_count": 305,
   "metadata": {},
   "outputs": [
    {
     "data": {
      "application/vnd.jupyter.widget-view+json": {
       "model_id": "edcd61cab30240238803c797f039efbd",
       "version_major": 2,
       "version_minor": 0
      },
      "text/plain": [
       "VBox(children=(VBox(children=(Label(value='Add ingredients you have:', layout=Layout(align_self='stretch')), H…"
      ]
     },
     "metadata": {},
     "output_type": "display_data"
    },
    {
     "data": {
      "application/vnd.jupyter.widget-view+json": {
       "model_id": "4962cdde133a45a8a1c915ef32194ea7",
       "version_major": 2,
       "version_minor": 0
      },
      "text/plain": [
       "Output(layout=Layout(align_self='center', border='1px solid black', width='90%'))"
      ]
     },
     "metadata": {},
     "output_type": "display_data"
    }
   ],
   "source": [
    "display(ui,output)"
   ]
  },
  {
   "cell_type": "code",
   "execution_count": null,
   "metadata": {},
   "outputs": [],
   "source": []
  }
 ],
 "metadata": {
  "kernelspec": {
   "display_name": "Python 3",
   "language": "python",
   "name": "python3"
  },
  "language_info": {
   "codemirror_mode": {
    "name": "ipython",
    "version": 3
   },
   "file_extension": ".py",
   "mimetype": "text/x-python",
   "name": "python",
   "nbconvert_exporter": "python",
   "pygments_lexer": "ipython3",
   "version": "3.7.3"
  }
 },
 "nbformat": 4,
 "nbformat_minor": 4
}
